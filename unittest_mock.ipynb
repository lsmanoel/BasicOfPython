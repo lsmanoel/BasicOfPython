{
  "nbformat": 4,
  "nbformat_minor": 0,
  "metadata": {
    "colab": {
      "provenance": [],
      "authorship_tag": "ABX9TyOv5dDQGE6xam5sYFCqFW57",
      "include_colab_link": true
    },
    "kernelspec": {
      "name": "python3",
      "display_name": "Python 3"
    },
    "language_info": {
      "name": "python"
    }
  },
  "cells": [
    {
      "cell_type": "markdown",
      "metadata": {
        "id": "view-in-github",
        "colab_type": "text"
      },
      "source": [
        "<a href=\"https://colab.research.google.com/github/lsmanoel/BasicOfPython/blob/master/unittest_mock.ipynb\" target=\"_parent\"><img src=\"https://colab.research.google.com/assets/colab-badge.svg\" alt=\"Open In Colab\"/></a>"
      ]
    },
    {
      "cell_type": "markdown",
      "source": [
        "# **unittest.mock** - ensaios\n",
        "\n",
        "[Documentação Oficial](https://docs.python.org/3/library/unittest.mock.html#)"
      ],
      "metadata": {
        "id": "4c5B0-iz8lom"
      }
    },
    {
      "cell_type": "markdown",
      "source": [
        "# Principais tipos de mocks da unittest.mock"
      ],
      "metadata": {
        "id": "0uFDh8nesXcO"
      }
    },
    {
      "cell_type": "code",
      "execution_count": null,
      "metadata": {
        "colab": {
          "base_uri": "https://localhost:8080/"
        },
        "id": "QHYa5yBMtJ2n",
        "outputId": "e400a997-5100-40fd-9bdb-0f655c5a6735"
      },
      "outputs": [
        {
          "output_type": "stream",
          "name": "stdout",
          "text": [
            "<class 'unittest.mock.Mock'>\n",
            "<Mock id='132097678409344'>\n",
            "<class 'unittest.mock.MagicMock'>\n",
            "<MagicMock id='132097678408144'>\n",
            "<class 'unittest.mock.AsyncMock'>\n",
            "<AsyncMock id='132097678405312'>\n",
            "<class 'unittest.mock.PropertyMock'>\n",
            "<PropertyMock id='132097678405504'>\n"
          ]
        }
      ],
      "source": [
        "import asyncio\n",
        "from unittest.mock import patch\n",
        "from unittest.mock import Mock, MagicMock, AsyncMock, PropertyMock\n",
        "\n",
        "mock = Mock()\n",
        "magic_mock = MagicMock()\n",
        "async_mock = AsyncMock()\n",
        "property_mock = PropertyMock()\n",
        "\n",
        "print(Mock)\n",
        "print(mock)\n",
        "print(MagicMock)\n",
        "print(magic_mock)\n",
        "print(AsyncMock)\n",
        "print(async_mock)\n",
        "print(PropertyMock)\n",
        "print(property_mock)"
      ]
    },
    {
      "cell_type": "markdown",
      "source": [
        "##Mock"
      ],
      "metadata": {
        "id": "uvR_XbNbEm7K"
      }
    },
    {
      "cell_type": "code",
      "source": [
        "print('Por meio do método side_effects é possível definir um retorno em função dos argumentos.')\n",
        "print('Se o side_effect for uma lista, o retorno da chamada do mack retornará um item de cada vez.\\n')\n",
        "\n",
        "values = {'a': 1, 'b': 2, 'c': 3}\n",
        "def side_effect(arg):\n",
        "    return values[arg]\n",
        "\n",
        "mock.side_effect = side_effect\n",
        "print(mock('a'), mock('b'), mock('c'))\n",
        "print(mock('a'))\n",
        "mock.side_effect = [5, 4, 3, 2, 'one']\n",
        "print(mock(), mock(), mock(), mock(), mock())"
      ],
      "metadata": {
        "colab": {
          "base_uri": "https://localhost:8080/"
        },
        "id": "q5J0cZC5uJde",
        "outputId": "ae4110c3-746c-4b1c-bc5e-329736e119dd"
      },
      "execution_count": null,
      "outputs": [
        {
          "output_type": "stream",
          "name": "stdout",
          "text": [
            "Por meio do método side_effects é possível definir um retorno em função dos argumentos.\n",
            "Se o side_effect for uma lista, o retorno da chamada do mack retornará um item de cada vez.\n",
            "\n",
            "1 2 3\n",
            "1\n",
            "5 4 3 2 one\n"
          ]
        }
      ]
    },
    {
      "cell_type": "code",
      "source": [
        "print('É possível criar métodos para o mock.\\n')\n",
        "\n",
        "values = {'a': 1, 'b': 2, 'c': 3}\n",
        "def mock_method(arg_1, arg_2):\n",
        "    return values[arg_1] + values[arg_2]\n",
        "\n",
        "mock.mock_method = mock_method\n",
        "print(mock.mock_method('b', 'a'))"
      ],
      "metadata": {
        "colab": {
          "base_uri": "https://localhost:8080/"
        },
        "id": "1OWPT1ogXnhg",
        "outputId": "e02c4810-751f-406b-d9f7-0c6c86d9d868"
      },
      "execution_count": null,
      "outputs": [
        {
          "output_type": "stream",
          "name": "stdout",
          "text": [
            "É possível criar métodos para o mock.\n",
            "\n",
            "3\n"
          ]
        }
      ]
    },
    {
      "cell_type": "code",
      "source": [
        "print('É possível métodos do tipo side_effect para o mock.\\n')\n",
        "mock = Mock()\n",
        "\n",
        "mock.mock_method.side_effect = {'a': 1, 'b': 2, 'c': 3}\n",
        "print(mock.mock_method())\n",
        "print(mock.mock_method())\n",
        "print(mock.mock_method())"
      ],
      "metadata": {
        "colab": {
          "base_uri": "https://localhost:8080/"
        },
        "id": "tNxlPH-ecskO",
        "outputId": "7d48b860-02b0-4fa2-c714-d44e8e8e0006"
      },
      "execution_count": null,
      "outputs": [
        {
          "output_type": "stream",
          "name": "stdout",
          "text": [
            "É possível métodos do tipo side_effect para o mock.\n",
            "\n",
            "a\n",
            "b\n",
            "c\n"
          ]
        }
      ]
    },
    {
      "cell_type": "markdown",
      "source": [
        "A programação abaixo só funciona com o MagicMock\n",
        "\n",
        "[MagicMock and magic method support doc](https://docs.python.org/3/library/unittest.mock.html#mocking-magic-methods)"
      ],
      "metadata": {
        "id": "p_uQinFjNhFP"
      }
    },
    {
      "cell_type": "code",
      "source": [
        "try:\n",
        "    mock.__iter__.return_value = iter(['a', 'b', 'c'])\n",
        "    iterator = iter(['a', 1, 'c'])\n",
        "    print(next(mock.__iter__.return_value))\n",
        "    print(list(mock))\n",
        "    print(list(iterator))\n",
        "except Exception as error:\n",
        "    print('error: ', error)\n",
        "# mock.__iter__.return_value = iter(['a', 'b', 'c'])"
      ],
      "metadata": {
        "colab": {
          "base_uri": "https://localhost:8080/"
        },
        "outputId": "4ffb57a2-6bb8-48bb-a6a0-a4dab3d13458",
        "id": "DM4nU8EhEm7L"
      },
      "execution_count": null,
      "outputs": [
        {
          "output_type": "stream",
          "name": "stdout",
          "text": [
            "error:  __iter__\n"
          ]
        }
      ]
    },
    {
      "cell_type": "code",
      "source": [
        "try:\n",
        "    mock.__eq__.return_value = True\n",
        "    print(mock == False)\n",
        "    print(mock == True)\n",
        "    print(mock == 'qualquer coisa')\n",
        "    print(mock[0] == 'fish')\n",
        "except Exception as error:\n",
        "    print('error: ', error)\n",
        "# mock.__eq__.return_value = True"
      ],
      "metadata": {
        "colab": {
          "base_uri": "https://localhost:8080/"
        },
        "outputId": "81ada411-5e4d-4442-fdf5-a822f35046b6",
        "id": "pDDKRSYVEm7L"
      },
      "execution_count": null,
      "outputs": [
        {
          "output_type": "stream",
          "name": "stdout",
          "text": [
            "error:  'method-wrapper' object has no attribute 'return_value'\n"
          ]
        }
      ]
    },
    {
      "cell_type": "code",
      "source": [
        "try:\n",
        "    mock.__getitem__.return_value = ':D'\n",
        "    mock[0]\n",
        "except Exception as error:\n",
        "    print('error: ', error)\n",
        "# mock.__getitem__.return_value = ':D'"
      ],
      "metadata": {
        "colab": {
          "base_uri": "https://localhost:8080/"
        },
        "outputId": "9cba7519-2d6e-43ee-acf4-2d3945da1254",
        "id": "JBUhbAq6Em7M"
      },
      "execution_count": null,
      "outputs": [
        {
          "output_type": "stream",
          "name": "stdout",
          "text": [
            "error:  __getitem__\n"
          ]
        }
      ]
    },
    {
      "cell_type": "markdown",
      "source": [
        "##MagicMock\n",
        "[MagicMock doc](https://docs.python.org/3/library/unittest.mock.html#magic-mock)"
      ],
      "metadata": {
        "id": "RKfHujNTEV4L"
      }
    },
    {
      "cell_type": "code",
      "source": [
        "print('O Magic Method __iter__ é utilizado para que o magic_mock assuma o comportamento de um iterator\\n')\n",
        "magic_mock.__iter__.return_value = iter(['alpha', 'beta', 'gamma'])\n",
        "\n",
        "print(magic_mock.__iter__.return_value)\n",
        "print(next(magic_mock.__iter__.return_value))\n",
        "print(next(magic_mock))\n",
        "print(list(magic_mock))"
      ],
      "metadata": {
        "colab": {
          "base_uri": "https://localhost:8080/"
        },
        "id": "540CsS1Tt4Sg",
        "outputId": "5f88cacb-3e4d-4c22-c2c1-75e29755ce0b"
      },
      "execution_count": null,
      "outputs": [
        {
          "output_type": "stream",
          "name": "stdout",
          "text": [
            "O Magic Method __iter__ é utilizado para que o magic_mock assuma o comportamento de um iterator\n",
            "\n",
            "<list_iterator object at 0x782463327370>\n",
            "alpha\n",
            "<MagicMock name='mock.__next__()' id='132097627031584'>\n",
            "['beta', 'gamma']\n"
          ]
        }
      ]
    },
    {
      "cell_type": "code",
      "source": [
        "magic_mock.__iter__.return_value = iter(['alpha', 'beta', 'gamma'])\n",
        "\n",
        "print(list(magic_mock))\n",
        "print(list(magic_mock))"
      ],
      "metadata": {
        "colab": {
          "base_uri": "https://localhost:8080/"
        },
        "id": "E5IcujUdPJ6M",
        "outputId": "45bd4ae5-cbcd-4d4e-c8a8-e06ee506e0ec"
      },
      "execution_count": null,
      "outputs": [
        {
          "output_type": "stream",
          "name": "stdout",
          "text": [
            "['alpha', 'beta', 'gamma']\n",
            "[]\n"
          ]
        }
      ]
    },
    {
      "cell_type": "code",
      "source": [
        "print('O Magic Method __eq__ força o retorno da função de comparação que é aplicada ao magic_mock\\n')\n",
        "magic_mock.__eq__.return_value = True\n",
        "\n",
        "print(magic_mock == False)\n",
        "print(magic_mock == True)\n",
        "print(magic_mock == 'qualquer coisa')"
      ],
      "metadata": {
        "colab": {
          "base_uri": "https://localhost:8080/"
        },
        "id": "lQ3HKG84uTWD",
        "outputId": "4d2f006f-74a4-4676-d948-1adcb888dfdf"
      },
      "execution_count": null,
      "outputs": [
        {
          "output_type": "stream",
          "name": "stdout",
          "text": [
            "O Magic Method __eq__ força o retorno da função de comparação que é aplicada ao magic_mock\n",
            "\n",
            "True\n",
            "True\n",
            "True\n"
          ]
        }
      ]
    },
    {
      "cell_type": "code",
      "source": [
        "print('...inclusive as comparações de igualdade com None\\n')\n",
        "if(magic_mock == None):\n",
        "    print('xD')\n",
        "else:\n",
        "    print(';(')\n"
      ],
      "metadata": {
        "colab": {
          "base_uri": "https://localhost:8080/"
        },
        "id": "pNQUay8TxOol",
        "outputId": "8387f370-5465-40c3-c930-bfb4558bcf1e"
      },
      "execution_count": null,
      "outputs": [
        {
          "output_type": "stream",
          "name": "stdout",
          "text": [
            "...inclusive as comparações de igualdade com None\n",
            "\n",
            "xD\n"
          ]
        }
      ]
    },
    {
      "cell_type": "code",
      "source": [
        "print('O Magic Method __getitem__ defino o retorno do magic_mock quando esse é utilizado como list ou dict.\\n')\n",
        "magic_mock = MagicMock()\n",
        "print('magic_mock[0]: ', magic_mock[0])\n",
        "print('magic_mock[string]: ', magic_mock['string'])\n",
        "print('magic_mock():  ', magic_mock())\n",
        "magic_mock.__getitem__.return_value = 'mock_returned'\n",
        "print('magic_mock[0]: ', magic_mock[0])\n",
        "print('magic_mock[string]: ', magic_mock['string'])\n",
        "print('magic_mock():  ', magic_mock())\n",
        "print('\\nO método magic_mock.return_value define o retorno do mock quando esse é chamado como função.\\n')\n",
        "magic_mock.return_value = 'mock_returned'\n",
        "print('magic_mock():  ', magic_mock())"
      ],
      "metadata": {
        "colab": {
          "base_uri": "https://localhost:8080/"
        },
        "id": "08P2oCZ6uyMJ",
        "outputId": "a11b3f8d-c934-4339-eb3e-e360f857073a"
      },
      "execution_count": null,
      "outputs": [
        {
          "output_type": "stream",
          "name": "stdout",
          "text": [
            "O Magic Method __getitem__ defino o retorno do magic_mock quando esse é utilizado como list ou dict.\n",
            "\n",
            "magic_mock[0]:  <MagicMock name='mock.__getitem__()' id='132097627149440'>\n",
            "magic_mock[string]:  <MagicMock name='mock.__getitem__()' id='132097627149440'>\n",
            "magic_mock():   <MagicMock name='mock()' id='132097627197728'>\n",
            "magic_mock[0]:  mock_returned\n",
            "magic_mock[string]:  mock_returned\n",
            "magic_mock():   <MagicMock name='mock()' id='132097627197728'>\n",
            "\n",
            "O método magic_mock.return_value define o retorno do mock quando esse é chamado como função.\n",
            "\n",
            "magic_mock():   mock_returned\n"
          ]
        }
      ]
    },
    {
      "cell_type": "code",
      "source": [
        "magic_mock.__getitem__.return_value = ':D'\n",
        "print(magic_mock[0])\n",
        "print(magic_mock[1])\n",
        "print(magic_mock[2])\n",
        "print(magic_mock[3])\n",
        "print(magic_mock['qualquer coisa'])\n",
        "print(magic_mock[''])\n",
        "print(magic_mock[None])\n",
        "print(magic_mock[True])\n",
        "print(magic_mock[False])\n",
        "var = {'a':'a'}\n",
        "print(magic_mock[var])\n",
        "print(magic_mock[magic_mock[magic_mock]])"
      ],
      "metadata": {
        "colab": {
          "base_uri": "https://localhost:8080/"
        },
        "id": "3dXqlKsIFoQ3",
        "outputId": "f549763c-a9aa-4f1c-de8d-87c46561235e"
      },
      "execution_count": null,
      "outputs": [
        {
          "output_type": "stream",
          "name": "stdout",
          "text": [
            ":D\n",
            ":D\n",
            ":D\n",
            ":D\n",
            ":D\n",
            ":D\n",
            ":D\n",
            ":D\n",
            ":D\n",
            ":D\n",
            ":D\n"
          ]
        }
      ]
    },
    {
      "cell_type": "code",
      "source": [
        "magic_mock.__getitem__.return_value = ':('\n",
        "mocked_value = magic_mock[0]\n",
        "magic_mock.__getitem__.return_value = ':)'\n",
        "print('mocked_value is magic_mock[0]? ', mocked_value is magic_mock[0])\n",
        "print('mocked_value:  ', mocked_value)\n",
        "print('magic_mock[0]: ', magic_mock[0])"
      ],
      "metadata": {
        "colab": {
          "base_uri": "https://localhost:8080/"
        },
        "id": "Nb-RJABRIfrM",
        "outputId": "b464b0c5-80f2-4b1f-e948-fd3910f5435c"
      },
      "execution_count": null,
      "outputs": [
        {
          "output_type": "stream",
          "name": "stdout",
          "text": [
            "mocked_value is magic_mock[0]?  False\n",
            "mocked_value:   :(\n",
            "magic_mock[0]:  :)\n"
          ]
        }
      ]
    },
    {
      "cell_type": "code",
      "source": [
        "print('O valor de retorno não pode ser alterado.\\n')\n",
        "magic_mock.__getitem__.return_value = ':)'\n",
        "magic_mock[':)'] = ':('\n",
        "print(magic_mock[':)'])"
      ],
      "metadata": {
        "colab": {
          "base_uri": "https://localhost:8080/"
        },
        "id": "_aTfbHrkHPzI",
        "outputId": "86efe0dc-68e7-4d9e-da01-9d33e4d05804"
      },
      "execution_count": null,
      "outputs": [
        {
          "output_type": "stream",
          "name": "stdout",
          "text": [
            "O valor de retorno não pode ser alterado.\n",
            "\n",
            ":)\n"
          ]
        }
      ]
    },
    {
      "cell_type": "markdown",
      "source": [
        "### MagicMock Methods"
      ],
      "metadata": {
        "id": "HWS2R2AGsKDR"
      }
    },
    {
      "cell_type": "code",
      "source": [
        "magic_mock.reset_mock()\n",
        "magic_mock.bolinha.return_value = 'amarelinha'\n",
        "magic_mock.galilha.return_value = 'pintadinha'\n",
        "print('bolinha: ', magic_mock.bolinha())\n",
        "print('galilha: ', magic_mock.galilha())"
      ],
      "metadata": {
        "colab": {
          "base_uri": "https://localhost:8080/"
        },
        "id": "zvulllZrrKVI",
        "outputId": "09be3b9a-a981-4056-dff1-59177df967eb"
      },
      "execution_count": null,
      "outputs": [
        {
          "output_type": "stream",
          "name": "stdout",
          "text": [
            "bolinha:  amarelinha\n",
            "galilha:  pintadinha\n"
          ]
        }
      ]
    },
    {
      "cell_type": "markdown",
      "source": [
        "\n",
        "\n",
        "---\n",
        "\n",
        "## AsyncMock (Async MagicMock)\n",
        "a doc sobre AsyncMock está na primeira ocorrência do ctrl-f na [página da doc](https://docs.python.org/3/library/unittest.mock.html)"
      ],
      "metadata": {
        "id": "YWigBMvE1H2u"
      }
    },
    {
      "cell_type": "code",
      "source": [
        "class ExampleClass:\n",
        "    def sync_foo():\n",
        "        print('sync_foo')\n",
        "    async def async_foo():\n",
        "        print('async_foo')\n",
        "\n",
        "print('AsyncMock(ExampleClass) Gera mocks síncronos e assíncronos de acordo com a classe ExampleClass:')\n",
        "mock_class = AsyncMock(ExampleClass)\n",
        "print(mock_class.sync_foo)\n",
        "print(mock_class.async_foo)\n",
        "\n",
        "mock_class.sync_foo()\n",
        "async def main(*args, **kwargs):\n",
        "    await mock_class.async_foo()\n",
        "asyncio.create_task(main())\n",
        "\n",
        "print('\\nmas para os métodos terem efeito,')\n",
        "print('tem que ser feito o mock de cada métodos:')\n",
        "def mock_sync_foo():\n",
        "    print('mock_sync_foo')\n",
        "async def mock_async_foo():\n",
        "    print('mock_async_foo')\n",
        "mock_class.sync_foo = mock_sync_foo\n",
        "mock_class.async_foo = mock_async_foo\n",
        "\n",
        "mock_class.sync_foo()\n",
        "asyncio.create_task(main())"
      ],
      "metadata": {
        "colab": {
          "base_uri": "https://localhost:8080/"
        },
        "id": "KuHNCVii1n7Y",
        "outputId": "aa1c1e96-cb91-4bde-850a-83a7af5c96c0"
      },
      "execution_count": null,
      "outputs": [
        {
          "output_type": "stream",
          "name": "stdout",
          "text": [
            "AsyncMock(ExampleClass) Gera mocks síncronos e assíncronos de acordo com a classe ExampleClass:\n",
            "<MagicMock name='mock.sync_foo' id='132097627099568'>\n",
            "<AsyncMock name='mock.async_foo' id='132097627102640'>\n",
            "\n",
            "mas para os métodos terem efeito,\n",
            "tem que ser feito o mock de cada métodos:\n",
            "mock_sync_foo\n"
          ]
        },
        {
          "output_type": "execute_result",
          "data": {
            "text/plain": [
              "<Task pending name='Task-2' coro=<main() running at <ipython-input-17-e570b67bb664>:13>>"
            ]
          },
          "metadata": {},
          "execution_count": 17
        }
      ]
    },
    {
      "cell_type": "markdown",
      "source": [
        "## Property Mock"
      ],
      "metadata": {
        "id": "oRDyQQh4ZcQw"
      }
    },
    {
      "cell_type": "code",
      "source": [
        "class_mock = MagicMock()\n",
        "class_mock.some_property = property_mock.return_value = \"some property\"\n",
        "print(class_mock.some_property)"
      ],
      "metadata": {
        "colab": {
          "base_uri": "https://localhost:8080/"
        },
        "id": "vZdGiTDCZj8c",
        "outputId": "7d419b93-8058-4a6b-d6fb-7061dcbde5dc"
      },
      "execution_count": null,
      "outputs": [
        {
          "output_type": "stream",
          "name": "stdout",
          "text": [
            "some property\n"
          ]
        }
      ]
    },
    {
      "cell_type": "markdown",
      "source": [
        "## Mocking Side Effects\n",
        "[source](https://ecoagi.ai/topics/Python/side-effect-in-python) - Funções com side effects são aquelas que alteram variáveis que estão fora do seu contexto."
      ],
      "metadata": {
        "id": "I5KF9v74hr2c"
      }
    },
    {
      "cell_type": "code",
      "source": [
        "print('Python side effect example')\n",
        "\n",
        "# ------------------------------------------------------------------------------\n",
        "# data parameter and my_list argument\n",
        "# have some memory address because are lists\n",
        "my_list = [1, 2, 3]\n",
        "def append_element(data, element):\n",
        "    data.append(element)\n",
        "    return data\n",
        "# ------------------------------------------------------------------------------\n",
        "\n",
        "print('my_list:  ', my_list)\n",
        "print('append 4: ', append_element(my_list, 4))\n",
        "print('my_list:  ', my_list)\n",
        "\n",
        "print('# ---------------------------------------------------------------------')\n",
        "print('No side effect example')\n",
        "\n",
        "def no_side_effects_decorator(func):\n",
        "    def wrapper(*args, **kwargs):\n",
        "        data_copy = args[0].copy()  # create a copy of the data\n",
        "        return func(data_copy, *args[1:], **kwargs)\n",
        "    return wrapper\n",
        "\n",
        "@no_side_effects_decorator\n",
        "def append_element(data, element):\n",
        "    data.append(element)\n",
        "    return data\n",
        "\n",
        "my_list = [1, 2, 3]\n",
        "print('my_list:  ', my_list)\n",
        "print('append 4: ', append_element(my_list, 4))\n",
        "print('my_list:  ', my_list)\n",
        "\n",
        "print('# ---------------------------------------------------------------------')\n",
        "print('Mock no side effect example')\n",
        "\n",
        "def append_element(data, element):\n",
        "    data.append(element)\n",
        "    return data\n",
        "\n",
        "# Mock object\n",
        "append_element = MagicMock(side_effect = lambda data, element: data + [element])\n",
        "print(my_list)\n",
        "print(append_element(my_list, 4))\n",
        "print(my_list)\n",
        "\n",
        "print('# ---------------------------------------------------------------------')\n",
        "print('Mock side effect example')\n",
        "\n",
        "my_list = [1, 2, 3]\n",
        "def append_element_with_side_effect(data, element):\n",
        "    print('This is a mock:')\n",
        "    data.append(element)\n",
        "    return data\n",
        "\n",
        "print('wraps faz com que o mock seja chamado no fim da execução da função mockada')\n",
        "patcher = patch('__main__.append_element', wraps=append_element_with_side_effect)\n",
        "append_element_with_side_effect_mock = patcher.start()\n",
        "\n",
        "print(my_list)\n",
        "print(append_element(my_list, 4))\n",
        "print(my_list)\n",
        "print(append_element_with_side_effect_mock.call_args_list)\n",
        "print('\\n')\n",
        "patcher.stop()\n",
        "\n",
        "def append_element(data, element):\n",
        "    data.append(element)\n",
        "    print(data)\n",
        "\n",
        "my_list = [1, 2, 3]\n",
        "patcher = patch('__main__.append_element', wraps=append_element)\n",
        "append_element_with_side_effect_mock = patcher.start()\n",
        "print(my_list)\n",
        "append_element(my_list, 4)\n",
        "print(my_list)\n",
        "print(append_element.call_args_list)\n",
        "print('\\n')\n",
        "\n",
        "print(append_element)\n",
        "print(append_element_with_side_effect)\n",
        "print(append_element_with_side_effect_mock)"
      ],
      "metadata": {
        "colab": {
          "base_uri": "https://localhost:8080/"
        },
        "id": "uac2hqLdgTIY",
        "outputId": "b6c3f4ae-a92f-476f-e9b1-1735ff455510"
      },
      "execution_count": null,
      "outputs": [
        {
          "output_type": "stream",
          "name": "stdout",
          "text": [
            "Python side effect example\n",
            "my_list:   [1, 2, 3]\n",
            "append 4:  [1, 2, 3, 4]\n",
            "my_list:   [1, 2, 3, 4]\n",
            "# ---------------------------------------------------------------------\n",
            "No side effect example\n",
            "my_list:   [1, 2, 3]\n",
            "append 4:  [1, 2, 3, 4]\n",
            "my_list:   [1, 2, 3]\n",
            "# ---------------------------------------------------------------------\n",
            "Mock no side effect example\n",
            "[1, 2, 3]\n",
            "[1, 2, 3, 4]\n",
            "[1, 2, 3]\n",
            "# ---------------------------------------------------------------------\n",
            "Mock side effect example\n",
            "wraps faz com que o mock seja chamado no fim da execução da função mockada\n",
            "[1, 2, 3]\n",
            "This is a mock:\n",
            "[1, 2, 3, 4]\n",
            "[1, 2, 3, 4]\n",
            "[call([1, 2, 3, 4], 4)]\n",
            "\n",
            "\n",
            "[1, 2, 3]\n",
            "[1, 2, 3, 4]\n",
            "[1, 2, 3, 4]\n",
            "[call([1, 2, 3, 4], 4)]\n",
            "\n",
            "\n",
            "<MagicMock name='append_element' id='132097627358976'>\n",
            "<function append_element_with_side_effect at 0x7824602165f0>\n",
            "<MagicMock name='append_element' id='132097627358976'>\n"
          ]
        }
      ]
    },
    {
      "cell_type": "markdown",
      "source": [
        "\n",
        "\n",
        "---\n",
        "\n",
        "\n",
        "# Spys"
      ],
      "metadata": {
        "id": "F1DYxrJMKtjE"
      }
    },
    {
      "cell_type": "markdown",
      "source": [
        "As classes Mock, MagicMock e AsyncMock registram todas as chamadas que lhe são feitas."
      ],
      "metadata": {
        "id": "1uBUMFQoWEMU"
      }
    },
    {
      "cell_type": "code",
      "source": [
        "import nest_asyncio\n",
        "nest_asyncio.apply()\n",
        "\n",
        "import asyncio\n",
        "from unittest.mock import call\n",
        "\n",
        "async_mock = AsyncMock()\n",
        "calls = [call(\"foo\"), call(\"bar\")]\n",
        "\n",
        "async def main(*args, **kwargs):\n",
        "    await async_mock(*args, **kwargs)\n",
        "\n",
        "asyncio.run(main('foo'))\n",
        "asyncio.run(main('bar'))\n",
        "\n",
        "async_mock.assert_has_awaits(calls)\n",
        "print(async_mock.call_args_list)\n",
        "print(async_mock.mock_calls)\n",
        "\n",
        "async_mock = MagicMock()\n",
        "try:\n",
        "    asyncio.run(main('foo'))\n",
        "except Exception as error:\n",
        "    print(error)\n"
      ],
      "metadata": {
        "colab": {
          "base_uri": "https://localhost:8080/"
        },
        "id": "IgZPfY-V4AVd",
        "outputId": "855c5b44-e4a3-4c93-d9e6-6833ee57ccb4"
      },
      "execution_count": null,
      "outputs": [
        {
          "output_type": "stream",
          "name": "stdout",
          "text": [
            "mock_async_foo\n",
            "mock_async_foo\n",
            "[call('foo'), call('bar')]\n",
            "[call('foo'), call('bar')]\n",
            "object MagicMock can't be used in 'await' expression\n"
          ]
        }
      ]
    },
    {
      "cell_type": "code",
      "source": [
        "print('quando o mock é chamado como uma função,')\n",
        "print('os métodos call_arg_list e mock_call retornam a lista de chamadas:')\n",
        "mock = Mock(return_value=None)\n",
        "mock(0, 1)\n",
        "mock(key='alpha', next='beta!')\n",
        "print(mock.call_args_list)\n",
        "print(mock.mock_calls)"
      ],
      "metadata": {
        "colab": {
          "base_uri": "https://localhost:8080/"
        },
        "id": "JBYIKT0iKk94",
        "outputId": "18926d54-add7-44ae-cc73-2ebe9288fdf0"
      },
      "execution_count": null,
      "outputs": [
        {
          "output_type": "stream",
          "name": "stdout",
          "text": [
            "quando o mock é chamado como uma função,\n",
            "os métodos call_arg_list e mock_call retornam a lista de chamadas:\n",
            "[call(0, 1), call(key='alpha', next='beta!')]\n",
            "[call(0, 1), call(key='alpha', next='beta!')]\n"
          ]
        }
      ]
    },
    {
      "cell_type": "code",
      "source": [
        "# @title\n",
        "print('mas quando o mock é chamado como uma lista ou um dicionário,')\n",
        "print('os método call_arg_list não retorna nada:')\n",
        "magic_mock.reset_mock()\n",
        "magic_mock['uni'] = 'uni'\n",
        "magic_mock.__setitem__.assert_called_with('uni', 'uni')\n",
        "magic_mock['dune'] = 'dune'\n",
        "magic_mock.__setitem__.assert_called_with('dune', 'dune')\n",
        "magic_mock['te'] = 'te'\n",
        "magic_mock.__setitem__.assert_called_with('te', 'te')\n",
        "print(magic_mock.call_args_list)\n",
        "print(magic_mock.mock_calls)"
      ],
      "metadata": {
        "colab": {
          "base_uri": "https://localhost:8080/"
        },
        "id": "iTPfqkmSYVAK",
        "outputId": "221f653d-3152-4ae3-b2fe-83940563139f"
      },
      "execution_count": null,
      "outputs": [
        {
          "output_type": "stream",
          "name": "stdout",
          "text": [
            "mas quando o mock é chamado como uma lista ou um dicionário,\n",
            "os método call_arg_list não retorna nada:\n",
            "[]\n",
            "[call.__setitem__('uni', 'uni'),\n",
            " call.__setitem__('dune', 'dune'),\n",
            " call.__setitem__('te', 'te')]\n"
          ]
        }
      ]
    },
    {
      "cell_type": "code",
      "source": [
        "print('o método assert_any_call, verifica se o método foi chamada em qualquer momento,')\n",
        "print('não apenas se essa foi a última chamada:')\n",
        "magic_mock.reset_mock()\n",
        "\n",
        "magic_mock['uni'] = 'uni'\n",
        "magic_mock['dune'] = 'dune'\n",
        "magic_mock['te'] = 'te'\n",
        "\n",
        "magic_mock.__setitem__.assert_any_call('uni', 'uni')\n",
        "magic_mock.__setitem__.assert_any_call('dune', 'dune')\n",
        "magic_mock.__setitem__.assert_any_call('te', 'te')\n",
        "print(magic_mock.call_args_list)\n",
        "print(magic_mock.mock_calls)"
      ],
      "metadata": {
        "colab": {
          "base_uri": "https://localhost:8080/"
        },
        "id": "XwOhOwLAUDBw",
        "outputId": "295a1a35-43a0-4003-e949-c4ba9782bd25"
      },
      "execution_count": null,
      "outputs": [
        {
          "output_type": "stream",
          "name": "stdout",
          "text": [
            "o método assert_any_call, verifica se o método foi chamada em qualquer momento,\n",
            "não apenas se essa foi a última chamada:\n",
            "[]\n",
            "[call.__setitem__('uni', 'uni'),\n",
            " call.__setitem__('dune', 'dune'),\n",
            " call.__setitem__('te', 'te')]\n"
          ]
        }
      ]
    },
    {
      "cell_type": "code",
      "source": [
        "from unittest.mock import call\n",
        "magic_mock.reset_mock()\n",
        "\n",
        "magic_mock['uni'] = 'uni'\n",
        "magic_mock['dune'] = 'dune'\n",
        "magic_mock['te'] = 'te'\n",
        "\n",
        "calls = [call('uni', 'uni'), call('dune', 'dune') , call('te', 'te')]\n",
        "magic_mock.__setitem__.assert_has_calls(calls)\n",
        "magic_mock.mock_calls"
      ],
      "metadata": {
        "colab": {
          "base_uri": "https://localhost:8080/"
        },
        "id": "wKSkUf6QYf8s",
        "outputId": "dc9f5eac-d863-4d45-babe-15daffa9fb2a"
      },
      "execution_count": null,
      "outputs": [
        {
          "output_type": "execute_result",
          "data": {
            "text/plain": [
              "[call.__setitem__('uni', 'uni'),\n",
              " call.__setitem__('dune', 'dune'),\n",
              " call.__setitem__('te', 'te')]"
            ]
          },
          "metadata": {},
          "execution_count": 24
        }
      ]
    },
    {
      "cell_type": "code",
      "source": [
        "from unittest.mock import call\n",
        "magic_mock.reset_mock()\n",
        "\n",
        "magic_mock('eu quero um')\n",
        "magic_mock('tchu')\n",
        "magic_mock('eu quero um')\n",
        "magic_mock('tcha')\n",
        "magic_mock('eu quero um')\n",
        "magic_mock('tchu')\n",
        "magic_mock('tcha')\n",
        "magic_mock('tchu')\n",
        "magic_mock('tcha')\n",
        "magic_mock('tchu')\n",
        "magic_mock('tcha!')\n",
        "\n",
        "calls = [call('eu quero um'), call('tchu') , call('tcha')]\n",
        "magic_mock.assert_has_calls(calls, any_order=True)\n",
        "print(magic_mock.call_args_list)\n",
        "print('Última chamada da função mock:')\n",
        "print(magic_mock.call_args)"
      ],
      "metadata": {
        "colab": {
          "base_uri": "https://localhost:8080/"
        },
        "id": "Yln8dSq9aBf6",
        "outputId": "474b4735-ff5c-4884-a1bd-4b95c4928cdf"
      },
      "execution_count": null,
      "outputs": [
        {
          "output_type": "stream",
          "name": "stdout",
          "text": [
            "[call('eu quero um'),\n",
            " call('tchu'),\n",
            " call('eu quero um'),\n",
            " call('tcha'),\n",
            " call('eu quero um'),\n",
            " call('tchu'),\n",
            " call('tcha'),\n",
            " call('tchu'),\n",
            " call('tcha'),\n",
            " call('tchu'),\n",
            " call('tcha!')]\n",
            "Última chamada da função mock:\n",
            "call('tcha!')\n"
          ]
        }
      ]
    },
    {
      "cell_type": "code",
      "source": [
        "print('O mock registra todas as interações:')\n",
        "\n",
        "magic_mock.reset_mock()\n",
        "print(magic_mock)\n",
        "abacaxi = magic_mock.abacaxi\n",
        "print(abacaxi)\n",
        "abacaxi = abacaxi.maduro\n",
        "print(abacaxi)\n",
        "abacaxi = abacaxi + 2\n",
        "print(abacaxi)\n",
        "abacaxi = abacaxi + 'dois'\n",
        "print(abacaxi)\n",
        "abacaxi = abacaxi[None]\n",
        "print(abacaxi)\n",
        "abacaxi = abacaxi()\n",
        "print(abacaxi)\n",
        "abacaxi[None] = 'abacaxi'\n",
        "print(abacaxi.__setitem__.mock_calls)\n",
        "abacaxi('maduro')\n",
        "abacaxi('doce')\n",
        "print(abacaxi.mock_calls)\n",
        "print(abacaxi.call_args)\n",
        "print(abacaxi.call_args_list)"
      ],
      "metadata": {
        "colab": {
          "base_uri": "https://localhost:8080/"
        },
        "id": "k-N1sRGSpHTl",
        "outputId": "93574d3e-a41d-42d7-e5a2-69749bc6b6b9"
      },
      "execution_count": null,
      "outputs": [
        {
          "output_type": "stream",
          "name": "stdout",
          "text": [
            "O mock registra todas as interações:\n",
            "<MagicMock id='132097627100960'>\n",
            "<MagicMock name='mock.abacaxi' id='132097627218336'>\n",
            "<MagicMock name='mock.abacaxi.maduro' id='132097627350464'>\n",
            "<MagicMock name='mock.abacaxi.maduro.__add__()' id='132097627626976'>\n",
            "<MagicMock name='mock.abacaxi.maduro.__add__().__add__()' id='132097627650656'>\n",
            "<MagicMock name='mock.abacaxi.maduro.__add__().__add__().__getitem__()' id='132097627707600'>\n",
            "<MagicMock name='mock.abacaxi.maduro.__add__().__add__().__getitem__()()' id='132097627723840'>\n",
            "[call(None, 'abacaxi')]\n",
            "[call.__str__(),\n",
            " call.__setitem__(None, 'abacaxi'),\n",
            " call('maduro'),\n",
            " call('doce')]\n",
            "call('doce')\n",
            "[call('maduro'), call('doce')]\n"
          ]
        }
      ]
    },
    {
      "cell_type": "code",
      "source": [
        "print(\"se o mock imita uma classe, esse registrará as chamadas de cada método:\")\n",
        "magic_mock.reset_mock()\n",
        "\n",
        "magic_mock.method('argumento')\n",
        "print(magic_mock.method_calls)\n",
        "\n",
        "magic_mock.bolinha('bolinha')\n",
        "magic_mock.qualquer_coisa('argumento', 2)\n",
        "print(magic_mock.method_calls)"
      ],
      "metadata": {
        "colab": {
          "base_uri": "https://localhost:8080/"
        },
        "id": "2j6TDvtbqFpu",
        "outputId": "d704da58-77ce-4d51-f09c-766c2d38e552"
      },
      "execution_count": null,
      "outputs": [
        {
          "output_type": "stream",
          "name": "stdout",
          "text": [
            "se o mock imita uma classe, esse registrará as chamadas de cada método:\n",
            "[call.method('argumento')]\n",
            "[call.method('argumento'),\n",
            " call.bolinha('bolinha'),\n",
            " call.qualquer_coisa('argumento', 2)]\n"
          ]
        }
      ]
    },
    {
      "cell_type": "code",
      "source": [
        "print('o mock separa os args dos kwargs de suas chamadas:')\n",
        "magic_mock.reset_mock()\n",
        "magic_mock(1, 'dois', {'três': 3}, first='Vamu Pula!!!!!!', next='Vamu Pula! Vamu Pula! Vamu Pula!')\n",
        "print(magic_mock.call_args)\n",
        "print(magic_mock.call_args.args)\n",
        "print(magic_mock.call_args.kwargs)"
      ],
      "metadata": {
        "colab": {
          "base_uri": "https://localhost:8080/"
        },
        "id": "8CO18WuixmBK",
        "outputId": "22d6b115-7d17-48da-b2ce-8ffe7c5c54b2"
      },
      "execution_count": null,
      "outputs": [
        {
          "output_type": "stream",
          "name": "stdout",
          "text": [
            "o mock separa os args dos kwargs de suas chamadas:\n",
            "call(1, 'dois', {'três': 3}, first='Vamu Pula!!!!!!', next='Vamu Pula! Vamu Pula! Vamu Pula!')\n",
            "(1, 'dois', {'três': 3})\n",
            "{'first': 'Vamu Pula!!!!!!', 'next': 'Vamu Pula! Vamu Pula! Vamu Pula!'}\n"
          ]
        }
      ]
    },
    {
      "cell_type": "markdown",
      "source": [
        "\n",
        "\n",
        "---\n",
        "\n",
        "\n",
        "# Patch"
      ],
      "metadata": {
        "id": "pSa5_YwG8qAS"
      }
    },
    {
      "cell_type": "code",
      "source": [
        "class SomeClass:\n",
        "    var=0\n",
        "print('SomeClass:         ', SomeClass)\n",
        "\n",
        "class OtherClass:\n",
        "    var=0\n",
        "print('OtherClass:        ', OtherClass)\n",
        "\n",
        "\n",
        "some_class = SomeClass()\n",
        "print('some_class:        ', some_class)\n",
        "other_class = OtherClass()\n",
        "print('other_class:       ', other_class)\n",
        "\n",
        "print('\\n---------------------------------------------------------------------')\n",
        "print('Apply Mock Patch:\\n')\n",
        "@patch('__main__.SomeClass')\n",
        "@patch('__main__.OtherClass')\n",
        "def function(normal_argument, mock_other_class, mock_same_class):\n",
        "    print('some_class:        ', some_class)\n",
        "    print('other_class:       ', other_class)\n",
        "    print('SomeClass:         ', SomeClass)\n",
        "    print('mock_same_class:   ', mock_same_class)\n",
        "    print('OtherClass:        ', OtherClass)\n",
        "    print('mock_other_class:  ', mock_other_class)\n",
        "    print('SomeClass():       ', SomeClass())\n",
        "    print('mock_same_class(): ', mock_same_class())\n",
        "    print('\\nSomeClass is mock_same_class? ',   SomeClass is mock_same_class)\n",
        "    print('OtherClass is mock_other_class? ',   OtherClass is mock_other_class)\n",
        "    print('SomeClass is not OtherClass? ',      SomeClass is not OtherClass)\n",
        "    print('SomeClass() is mock_same_class()? ', SomeClass() is mock_same_class())\n",
        "\n",
        "function(None)\n"
      ],
      "metadata": {
        "colab": {
          "base_uri": "https://localhost:8080/"
        },
        "id": "QOYzkhYVwFfr",
        "outputId": "321098fe-2e11-4c33-af63-2f5f63c2338b"
      },
      "execution_count": null,
      "outputs": [
        {
          "output_type": "stream",
          "name": "stdout",
          "text": [
            "SomeClass:          <class '__main__.SomeClass'>\n",
            "OtherClass:         <class '__main__.OtherClass'>\n",
            "some_class:         <__main__.SomeClass object at 0x7824600fe680>\n",
            "other_class:        <__main__.OtherClass object at 0x7824600fe650>\n",
            "\n",
            "---------------------------------------------------------------------\n",
            "Apply Mock Patch:\n",
            "\n",
            "some_class:         <__main__.SomeClass object at 0x7824600fe680>\n",
            "other_class:        <__main__.OtherClass object at 0x7824600fe650>\n",
            "SomeClass:          <MagicMock name='SomeClass' id='132097625819120'>\n",
            "mock_same_class:    <MagicMock name='SomeClass' id='132097625819120'>\n",
            "OtherClass:         <MagicMock name='OtherClass' id='132097625809072'>\n",
            "mock_other_class:   <MagicMock name='OtherClass' id='132097625809072'>\n",
            "SomeClass():        <MagicMock name='SomeClass()' id='132097625876000'>\n",
            "mock_same_class():  <MagicMock name='SomeClass()' id='132097625876000'>\n",
            "\n",
            "SomeClass is mock_same_class?  True\n",
            "OtherClass is mock_other_class?  True\n",
            "SomeClass is not OtherClass?  True\n",
            "SomeClass() is mock_same_class()?  True\n"
          ]
        }
      ]
    },
    {
      "cell_type": "code",
      "source": [
        "from unittest.mock import NonCallableMagicMock\n",
        "\n",
        "non_callable_magic_mock = NonCallableMagicMock()\n",
        "non_callable_magic_mock = non_callable_magic_mock + 1\n",
        "non_callable_magic_mock = non_callable_magic_mock[0] + '1'\n",
        "print(non_callable_magic_mock)\n",
        "non_callable_magic_mock.__getitem__.return_value = 1\n",
        "print(non_callable_magic_mock[0])\n",
        "print(non_callable_magic_mock[1])\n",
        "print(non_callable_magic_mock[2])\n",
        "non_callable_magic_mock.__iter__.return_value = iter([0, 1, 2])\n",
        "print(list(non_callable_magic_mock))\n",
        "print(list(non_callable_magic_mock))"
      ],
      "metadata": {
        "colab": {
          "base_uri": "https://localhost:8080/"
        },
        "id": "tPa6vlD8lHvY",
        "outputId": "d808597c-368a-4c3d-e797-44cb56cdafdf"
      },
      "execution_count": null,
      "outputs": [
        {
          "output_type": "stream",
          "name": "stdout",
          "text": [
            "<MagicMock name='mock.__add__().__getitem__().__add__()' id='132097626000544'>\n",
            "1\n",
            "1\n",
            "1\n",
            "[0, 1, 2]\n",
            "[]\n"
          ]
        }
      ]
    },
    {
      "cell_type": "markdown",
      "source": [
        "\n",
        "\n",
        "---\n",
        "\n",
        "## Mocking a Context Manager with patcher"
      ],
      "metadata": {
        "id": "bz9pjv7QSWh3"
      }
    },
    {
      "cell_type": "code",
      "source": [
        "from unittest.mock import patch\n",
        "div = '\\n# --------------------------------------------------------------------'\n",
        "\n",
        "class TocToc:\n",
        "    def __enter__(self):\n",
        "        return 'toc toc'\n",
        "    def __exit__(self, exc_type, exc, tb):\n",
        "        print('quem é?')\n",
        "\n",
        "def knock():\n",
        "    print(div)\n",
        "    with TocToc() as TOK_TOK:\n",
        "        print(TOK_TOK)\n",
        "\n",
        "knock()\n",
        "\n",
        "# ------------------------------------------------------------------------------\n",
        "patcher = patch('__main__.TocToc')\n",
        "class_mock = patcher.start()\n",
        "\n",
        "class_mock.return_value.__enter__.return_value = '__enter__'\n",
        "\n",
        "def __mock_exit__(self, exc_type, exc, tb):\n",
        "    print('__exit__')\n",
        "class_mock.return_value.__exit__ = __mock_exit__\n",
        "\n",
        "knock()\n",
        "\n",
        "# ------------------------------------------------------------------------------\n",
        "class TocTocMock:\n",
        "    def __enter__(self):\n",
        "        return 'TocTocMock.__enter__()'\n",
        "    def __exit__(self, exc_type, exc, tb):\n",
        "        print('TocTocMock.__exit__()')\n",
        "\n",
        "class_mock.return_value = TocTocMock()\n",
        "\n",
        "knock()\n",
        "\n",
        "# ------------------------------------------------------------------------------\n",
        "class_mock.return_value = MagicMock()\n",
        "\n",
        "knock()\n",
        "\n",
        "patcher.stop()"
      ],
      "metadata": {
        "colab": {
          "base_uri": "https://localhost:8080/"
        },
        "id": "q3kqR7drSVmN",
        "outputId": "b971012a-f45b-4a41-dfad-1d6bfb0caf4c"
      },
      "execution_count": null,
      "outputs": [
        {
          "output_type": "stream",
          "name": "stdout",
          "text": [
            "\n",
            "# --------------------------------------------------------------------\n",
            "toc toc\n",
            "quem é?\n",
            "\n",
            "# --------------------------------------------------------------------\n",
            "__enter__\n",
            "__exit__\n",
            "\n",
            "# --------------------------------------------------------------------\n",
            "TocTocMock.__enter__()\n",
            "TocTocMock.__exit__()\n",
            "\n",
            "# --------------------------------------------------------------------\n",
            "<MagicMock name='TocToc().__enter__()' id='132097626208096'>\n"
          ]
        },
        {
          "output_type": "execute_result",
          "data": {
            "text/plain": [
              "False"
            ]
          },
          "metadata": {},
          "execution_count": 31
        }
      ]
    },
    {
      "cell_type": "code",
      "source": [
        "async def aprint(string):\n",
        "    print(string)\n",
        "\n",
        "class AsyncContextManager:\n",
        "    async def __aenter__(self):\n",
        "        await aprint('Within the Context Manager')\n",
        "\n",
        "    async def __aexit__(self, exc_type, exc, tb):\n",
        "        await aprint('Outside the Context Manager')\n",
        "\n",
        "async def func():\n",
        "    print(div)\n",
        "    async with AsyncContextManager():\n",
        "        await aprint('Inner the Context Manager')\n",
        "\n",
        "asyncio.run(func())\n",
        "\n",
        "# ------------------------------------------------------------------------------\n",
        "patcher = patch('__main__.AsyncContextManager')\n",
        "class_mock = patcher.start()\n",
        "\n",
        "async def __mock_aenter__(self):\n",
        "    print('__mock_aenter__')\n",
        "class_mock.return_value.__aenter__ = __mock_aenter__\n",
        "\n",
        "async def __mock_aexit__(self, exc_type, exc, tb):\n",
        "    print('__mock_aexit__')\n",
        "class_mock.return_value.__aexit__ = __mock_aexit__\n",
        "\n",
        "asyncio.run(func())\n",
        "\n",
        "patcher.stop()"
      ],
      "metadata": {
        "colab": {
          "base_uri": "https://localhost:8080/"
        },
        "id": "zGUIgL-Qtz9f",
        "outputId": "e36a68ba-550d-41bb-88b1-0640b544985b"
      },
      "execution_count": null,
      "outputs": [
        {
          "output_type": "stream",
          "name": "stdout",
          "text": [
            "\n",
            "# --------------------------------------------------------------------\n",
            "Within the Context Manager\n",
            "Inner the Context Manager\n",
            "Outside the Context Manager\n",
            "\n",
            "# --------------------------------------------------------------------\n",
            "__mock_aenter__\n",
            "Inner the Context Manager\n",
            "__mock_aexit__\n"
          ]
        },
        {
          "output_type": "execute_result",
          "data": {
            "text/plain": [
              "False"
            ]
          },
          "metadata": {},
          "execution_count": 32
        }
      ]
    },
    {
      "cell_type": "markdown",
      "source": [
        "## Mock de classe instanciada dentro de outra classe - arquivos distintos\n",
        "\n",
        "Quando a classe está instanciada dentro de outra classe, e elas estão em arquivos distintos, o patch da classe importada pela outra deve ser feito no arquivo da classe que efetua o import."
      ],
      "metadata": {
        "id": "19QEkyxuXgJs"
      }
    },
    {
      "cell_type": "code",
      "source": [
        "class Class:\n",
        "    def __init__(self, class_name='unnamed class'):\n",
        "        self.class_name = class_name\n",
        "    def print_name(self):\n",
        "        print(self.class_name)\n",
        "\n",
        "class MasterClass:\n",
        "    def __init__(self):\n",
        "        self.children_class = Class('Children Class')\n",
        "    def print_children_name(self):\n",
        "        self.children_class.print_name()\n",
        "\n",
        "# ------------------------------------------------------------------------------\n",
        "def open_class_file(class_name):\n",
        "    try: return open(f\"{class_name}.py\", \"x\")\n",
        "    except: return open(f\"{class_name}.py\", \"w\")\n",
        "\n",
        "\n",
        "class_raw_code = \\\n",
        "  \"class Class:\\n\" \\\n",
        "+ \"    def __init__(self, class_name='unnamed class'):\\n\" \\\n",
        "+ \"        self.class_name = class_name\\n\" \\\n",
        "+ \"    def print_name(self):\\n\" \\\n",
        "+ \"        print(self.class_name)\\n\" \\\n",
        "\n",
        "\n",
        "class_file = open_class_file('class_code')\n",
        "class_file.write(class_raw_code)\n",
        "class_file.close()\n",
        "\n",
        "# ------------------------------------------------------------------------------\n",
        "from class_code import Class\n",
        "\n",
        "class_exemple = Class('Class Exemple')\n",
        "class_exemple.print_name()\n",
        "\n",
        "# ------------------------------------------------------------------------------\n",
        "master_class_raw_code = \\\n",
        "  \"from class_code import Class\\n\\n\" \\\n",
        "+ \"class MasterClass:\\n\" \\\n",
        "+ \"    def __init__(self):\\n\" \\\n",
        "+ \"        self.children_class = Class('Children Class')\\n\" \\\n",
        "+ \"    def print_children_name(self):\\n\" \\\n",
        "+ \"        self.children_class.print_name()\\n\" \\\n",
        "\n",
        "class_file = open_class_file('master_class_code')\n",
        "class_file.write(master_class_raw_code)\n",
        "class_file.close()\n",
        "\n",
        "# ------------------------------------------------------------------------------\n",
        "from master_class_code import MasterClass\n",
        "\n",
        "master_class = MasterClass()\n",
        "master_class.children_class.print_name()\n",
        "\n",
        "print('# ---------------------------------------------------------------------')\n",
        "print(\"Aplicando o mock de Class no arquivo class_code.py\")\n",
        "def print_name_mock():\n",
        "    print('mocked name')\n",
        "\n",
        "patcher = patch('class_code.Class')\n",
        "class_mock = patcher.start()\n",
        "class_mock.return_value.print_name = print_name_mock\n",
        "\n",
        "from class_code import Class\n",
        "\n",
        "class_exemple = Class('Class Exemple')\n",
        "class_exemple.print_name()\n",
        "\n",
        "from master_class_code import MasterClass\n",
        "\n",
        "master_class = MasterClass()\n",
        "master_class.children_class.print_name()\n",
        "\n",
        "master_class = patcher.stop()\n",
        "\n",
        "print('# ---------------------------------------------------------------------')\n",
        "print(\"Aplicando o mock de Class no arquivo master_class_code.py\")\n",
        "patcher = patch('master_class_code.Class')\n",
        "class_mock = patcher.start()\n",
        "class_mock.return_value.print_name = print_name_mock\n",
        "\n",
        "from class_code import Class\n",
        "\n",
        "class_exemple = Class('Class Exemple')\n",
        "class_exemple.print_name()\n",
        "\n",
        "from master_class_code import MasterClass\n",
        "\n",
        "master_class = MasterClass()\n",
        "master_class.children_class.print_name()\n",
        "\n",
        "class_mock = patcher.stop()"
      ],
      "metadata": {
        "colab": {
          "base_uri": "https://localhost:8080/"
        },
        "id": "ak7PUyQQpk2f",
        "outputId": "8dbab760-2a6e-4e00-e4d7-ca8b2db13f7a"
      },
      "execution_count": null,
      "outputs": [
        {
          "output_type": "stream",
          "name": "stdout",
          "text": [
            "Class Exemple\n",
            "Children Class\n",
            "# ---------------------------------------------------------------------\n",
            "Aplicando o mock de Class no arquivo class_code.py\n",
            "mocked name\n",
            "Children Class\n",
            "# ---------------------------------------------------------------------\n",
            "Aplicando o mock de Class no arquivo master_class_code.py\n",
            "Class Exemple\n",
            "mocked name\n"
          ]
        }
      ]
    }
  ]
}