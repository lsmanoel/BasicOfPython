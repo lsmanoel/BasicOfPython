{
  "nbformat": 4,
  "nbformat_minor": 0,
  "metadata": {
    "colab": {
      "name": "AlphaVantageAPI_basic.ipynb",
      "version": "0.3.2",
      "provenance": [],
      "collapsed_sections": [],
      "include_colab_link": true
    },
    "kernelspec": {
      "name": "python3",
      "display_name": "Python 3"
    }
  },
  "cells": [
    {
      "cell_type": "markdown",
      "metadata": {
        "id": "view-in-github",
        "colab_type": "text"
      },
      "source": [
        "<a href=\"https://colab.research.google.com/github/lsmanoel/BasicOfPython/blob/master/PythonFinance/AlphaVantageAPI_basic.ipynb\" target=\"_parent\"><img src=\"https://colab.research.google.com/assets/colab-badge.svg\" alt=\"Open In Colab\"/></a>"
      ]
    },
    {
      "metadata": {
        "id": "iNMGCyYUxtgD",
        "colab_type": "text"
      },
      "cell_type": "markdown",
      "source": [
        "# Alpha Vantage Stock Data API\n",
        "\n",
        "[alphavantage.co](https://www.alphavantage.co/)\n",
        "\n",
        "API key: LAFE0OQUFL56YEPA (Free Account)"
      ]
    },
    {
      "metadata": {
        "id": "8K7LiMj06q9z",
        "colab_type": "code",
        "colab": {}
      },
      "cell_type": "code",
      "source": [
        "import matplotlib.pyplot as plt\n",
        "import numpy as np\n",
        "import pandas as pd\n",
        "\n",
        "class StockList:\n",
        "  #-----------------------------------------------------------------------------\n",
        "  def __init__(self, stock_list=None, data_period_type='TIME_SERIES_DAILY_ADJUSTED'):\n",
        "    self.stock_list_N = 0\n",
        "    self.data_period_type = data_period_type\n",
        "    self.stock_list = []\n",
        "    self.stock_data_list=[]\n",
        "    \n",
        "    if stock_list == None: pass\n",
        "    else: self.append_StockDataList(stock_list)\n",
        "\n",
        "  #-----------------------------------------------------------------------------\n",
        "  def get_StockData(self, stock_symbol):\n",
        "    stock_index = [stock_index for stock_index, stock in enumerate(self.stock_list) if stock[0] == stock_symbol]  \n",
        "    if stock_index==[]: print(\"stock symbol not found!\") \n",
        "    else: return self.stock_data_list[stock_index[0]]\n",
        "  \n",
        "  #-----------------------------------------------------------------------------\n",
        "  def append_StockData(self, stock):\n",
        "    self.stock_list_N += 1\n",
        "    self.stock_list.append(stock)\n",
        "    stock_symbol = stock[0]\n",
        "    stock_name = stock[1]\n",
        "    url='https://www.alphavantage.co/query?function='+self.data_period_type+'&symbol='+stock_symbol+'&apikey=LAFE0OQUFL56YEPA&datatype=csv' \n",
        "    self.stock_data_list.append(pd.read_csv(url))\n",
        "    print(self.stock_list_N, stock_symbol, stock_name, self.stock_data_list[-1].shape)\n",
        "\n",
        "  #-----------------------------------------------------------------------------\n",
        "  def remove_StockData(self, stock_symbol):\n",
        "    stock_index=[stock_index for stock_index, stock in enumerate(self.stock_list) if stock[0] == stock_symbol]  \n",
        "    if stock_index==[]: print(\"stock symbol not found!\")\n",
        "    else:\n",
        "      stock_index=stock_index[0]\n",
        "      print(\"index:\",stock_index, stock_symbol, \"Removed!\")\n",
        "      del self.stock_list[stock_index]\n",
        "      del self.stock_data_list[stock_index]\n",
        "      self.stock_list_N -= 1\n",
        "\n",
        "  #-----------------------------------------------------------------------------\n",
        "  def append_StockDataList(self, stock_list):\n",
        "    if len(stock_list)>5:\n",
        "      print(\"Len:\", len(stock_list), \" -> List is too big... Appends only 5 stocks at a time of 1 minute!\")\n",
        "    else:\n",
        "      for stock in stock_list:\n",
        "        self.append_StockData(stock)\n",
        "    \n",
        "  #-----------------------------------------------------------------------------\n",
        "  def get_StockPhaseTable(self, stock_phase='close'):\n",
        "    if stock_phase in ('open', 'close', 'high', 'low', 'volume'):\n",
        "      stock_phase_table = pd.DataFrame()\n",
        "      for i, stock_data in enumerate(self.stock_data_list):\n",
        "        stock_data_temp = stock_data[stock_phase]\n",
        "        stock_phase_table = pd.concat([stock_phase_table, \n",
        "                                       stock_data_temp.rename(self.stock_list[i][0])], \n",
        "                                      axis=1)\n",
        "      return stock_phase_table\n",
        "    \n",
        "    elif stock_phase == 'mean2':\n",
        "      stock_phase_table = pd.DataFrame()\n",
        "      for i, stock_data in enumerate(self.stock_data_list):\n",
        "        stock_data_temp = (stock_data['open']+stock_data['close'])/2\n",
        "        stock_phase_table = pd.concat([stock_phase_table, \n",
        "                                       stock_data_temp.rename(self.stock_list[i][0])], \n",
        "                                      axis=1)\n",
        "      return stock_phase_table\n",
        "    \n",
        "    elif stock_phase == 'mean4':\n",
        "      stock_phase_table = pd.DataFrame()\n",
        "      for i, stock_data in enumerate(self.stock_data_list):\n",
        "        stock_data_temp = (stock_data['open']+stock_data['close']+stock_data['high']+stock_data['low'])/4\n",
        "        stock_phase_table = pd.concat([stock_phase_table, \n",
        "                                       stock_data_temp.rename(self.stock_list[i][0])], \n",
        "                                      axis=1)\n",
        "      return stock_phase_table\n",
        "    \n",
        "    else: \n",
        "      print(\"invalid stock phase!\")\n",
        "\n",
        "    \n",
        "\n",
        "      \n",
        "  #-----------------------------------------------------------------------------  \n",
        "  def correlation_StockPhaseTable(self, stock_phase='close'):    \n",
        "    return self.get_StockPhaseTable(stock_phase).corr()\n",
        "    \n",
        "  #=============================================================================\n",
        "  #Plotters Method:\n",
        "  #-----------------------------------------------------------------------------\n",
        "  def plot_candles_allStocksData(self, plot_size=30):\n",
        "    for i, stock_data in enumerate(self.stock_data_list):\n",
        "      cols = list(stock_data.columns.values)\n",
        "      data_plot_format = stock_data[[cols[0], cols[1], cols[4], cols[2], cols[3], cols[6]]]\n",
        "      \n",
        "      self.plot_candles(data_plot_format[:plot_size], \n",
        "                   self.data_period_type, \n",
        "                   title = self.stock_list[i][0], \n",
        "                   volume_bars=True)\n",
        "\n",
        "  #-----------------------------------------------------------------------------\n",
        "  def plot_candles_StockData(self, stock_symbol, plot_size=30):\n",
        "    stock_index = [stock_index for stock_index, stock in enumerate(self.stock_list) if stock[0] == stock_symbol]    \n",
        "    if stock_index==[]: print(\"stock symbol not found!\")\n",
        "    else:\n",
        "      stock_data = self.stock_data_list[stock_index[0]]\n",
        "\n",
        "      cols = list(stock_data.columns.values)\n",
        "      data_plot_format = stock_data[[cols[0], cols[1], cols[4], cols[2], cols[3], cols[6]]]\n",
        "\n",
        "      self.plot_candles(data_plot_format[:plot_size], \n",
        "                   self.data_period_type, \n",
        "                   title = stock_symbol, \n",
        "                   volume_bars = True)\n",
        "  \n",
        "  \n",
        "  #-----------------------------------------------------------------------------  \n",
        "  \"\"\"This cell defineds the plot_candles function\"\"\"\n",
        "  def plot_candles(self, pricing, data_period_type='TIME_SERIES_DAILY_ADJUSTED', title=None, volume_bars=False, color_function=None, technicals=None):\n",
        "    \"\"\" Plots a candlestick chart using quantopian pricing data.\n",
        "\n",
        "    Author: Daniel Treiman\n",
        "\n",
        "    Args:\n",
        "      pricing: A pandas dataframe with columns ['open_price', 'close_price', 'high', 'low', 'volume']\n",
        "      title: An optional title for the chart\n",
        "      volume_bars: If True, plots volume bars\n",
        "      color_function: A function which, given a row index and price series, returns a candle color.\n",
        "      technicals: A list of additional data series to add to the chart.  Must be the same length as pricing.\n",
        "    \"\"\"\n",
        "    def default_color(index, open_price, close_price, low, high):\n",
        "      return 'r' if open_price[index] > close_price[index] else 'g'\n",
        "\n",
        "    color_function = color_function or default_color\n",
        "    technicals = technicals or []\n",
        "    open_price = pricing['open']\n",
        "    close_price = pricing['close']\n",
        "    low = pricing['low']\n",
        "    high = pricing['high']\n",
        "    oc_min = pd.concat([open_price, close_price], axis=1).min(axis=1)\n",
        "    oc_max = pd.concat([open_price, close_price], axis=1).max(axis=1)\n",
        "\n",
        "    if volume_bars:\n",
        "      fig, (ax1, ax2) = plt.subplots(2, 1, \n",
        "                                     figsize=(12,12), \n",
        "                                     sharex=True, \n",
        "                                     gridspec_kw={'height_ratios': [3,1]})\n",
        "    else:\n",
        "      fig, ax1 = plt.subplots(1, 1)\n",
        "\n",
        "    if title:\n",
        "      ax1.set_title(title)\n",
        "\n",
        "    x = np.arange(len(pricing))\n",
        "    candle_colors = [color_function(i, open_price, close_price, low, high) for i in x]\n",
        "    candles = ax1.bar(x, oc_max-oc_min, bottom=oc_min, color=candle_colors, linewidth=0)\n",
        "    lines = ax1.vlines(x, low, high, color=candle_colors, linewidth=2)\n",
        "    ax1.xaxis.grid(False)\n",
        "    ax1.xaxis.set_tick_params(which='major', length=3.0, direction='in', top=False)\n",
        "    \n",
        "    # Assume minute frequency if first two bars are in the same day.\n",
        "    if data_period_type == 'TIME_SERIES_INTRADAY':\n",
        "      time_format = '%H:%M'\n",
        "    else:\n",
        "      time_format = '%d-%m-%Y'\n",
        "\n",
        "    # Set X axis tick labels.\n",
        "    plt.xticks(x, [date for date in pricing['timestamp']], rotation='vertical')\n",
        "    for indicator in technicals:\n",
        "      ax1.plot(x, indicator)\n",
        "\n",
        "    if volume_bars:\n",
        "      volume = pricing['volume']\n",
        "      volume_scale = None\n",
        "      scaled_volume = volume\n",
        "      \n",
        "      if volume.max() > 1000000:\n",
        "          volume_scale = 'M'\n",
        "          scaled_volume = volume / 1000000\n",
        "      elif volume.max() > 1000:\n",
        "          volume_scale = 'K'\n",
        "          scaled_volume = volume / 1000\n",
        "          \n",
        "      ax2.bar(x, scaled_volume, color=candle_colors)\n",
        "      volume_title = 'Volume'\n",
        "      \n",
        "      if volume_scale:\n",
        "          volume_title = 'Volume (%s)' % volume_scale\n",
        "          \n",
        "      ax2.set_title(volume_title)\n",
        "      ax2.xaxis.grid(False)"
      ],
      "execution_count": 0,
      "outputs": []
    },
    {
      "metadata": {
        "id": "-FBinS9j1pus",
        "colab_type": "text"
      },
      "cell_type": "markdown",
      "source": [
        "Bovespa Stock Symbols:"
      ]
    },
    {
      "metadata": {
        "id": "UO6p5_OZHqMu",
        "colab_type": "code",
        "colab": {
          "base_uri": "https://localhost:8080/",
          "height": 69
        },
        "outputId": "97d16217-eac1-456e-9e48-907775a91820"
      },
      "cell_type": "code",
      "source": [
        "banks_stock=[]\n",
        "banks_stock.append(('BBAS3.SA', \"BANCO DO BRASIL ON\"))\n",
        "banks_stock.append(('ITUB3.SA', \"ITAU UNIBANCO ON\"))\n",
        "banks_stock.append(('BRSR6.SA', \"BANRISUL PNB\"))\n",
        "banks_stock.append(('BBDC3.SA', \"BRADESCO ON\"))\n",
        "banks_stock.append(('SANB11.SA', \"SANTANDER BR UNT\"))\n",
        "\n",
        "banks_stock_2=[]\n",
        "banks_stock_2.append(('BBDC4.SA', \"BRADESCO PN\"))\n",
        "banks_stock_2.append(('ITUB4.SA', \"ITAUUNIBANCO PN\"))\n",
        "banks_stock_2.append(('BIDI4.SA', \"BANCO INTER PN\"))\n",
        "\n",
        "\n",
        "# banksStockList = StockList()\n",
        "# banksStockList.append_StockDataList(banks_stock)\n",
        "banksStockList.append_StockDataList(banks_stock_2)\n",
        "\n",
        "# banksStockList.plot_candles_allStocksData(30)\n",
        "# banksStockList.plot_candles_StockData('BBDC4.SA', 30)"
      ],
      "execution_count": 157,
      "outputs": [
        {
          "output_type": "stream",
          "text": [
            "6 BBDC4.SA BRADESCO PN (100, 9)\n",
            "7 ITUB4.SA ITAUUNIBANCO PN (100, 9)\n",
            "8 BIDI4.SA BANCO INTER PN (100, 9)\n"
          ],
          "name": "stdout"
        }
      ]
    },
    {
      "metadata": {
        "id": "5udHZgPR9p4K",
        "colab_type": "code",
        "colab": {
          "base_uri": "https://localhost:8080/",
          "height": 206
        },
        "outputId": "a25249d6-4f10-4e20-8d0f-bc12a8a2e7ee"
      },
      "cell_type": "code",
      "source": [
        "banksStockList.get_StockData(\"BBAS3.SA\").head()"
      ],
      "execution_count": 158,
      "outputs": [
        {
          "output_type": "execute_result",
          "data": {
            "text/html": [
              "<div>\n",
              "<style scoped>\n",
              "    .dataframe tbody tr th:only-of-type {\n",
              "        vertical-align: middle;\n",
              "    }\n",
              "\n",
              "    .dataframe tbody tr th {\n",
              "        vertical-align: top;\n",
              "    }\n",
              "\n",
              "    .dataframe thead th {\n",
              "        text-align: right;\n",
              "    }\n",
              "</style>\n",
              "<table border=\"1\" class=\"dataframe\">\n",
              "  <thead>\n",
              "    <tr style=\"text-align: right;\">\n",
              "      <th></th>\n",
              "      <th>timestamp</th>\n",
              "      <th>open</th>\n",
              "      <th>high</th>\n",
              "      <th>low</th>\n",
              "      <th>close</th>\n",
              "      <th>adjusted_close</th>\n",
              "      <th>volume</th>\n",
              "      <th>dividend_amount</th>\n",
              "      <th>split_coefficient</th>\n",
              "    </tr>\n",
              "  </thead>\n",
              "  <tbody>\n",
              "    <tr>\n",
              "      <th>0</th>\n",
              "      <td>2019-01-28</td>\n",
              "      <td>48.00</td>\n",
              "      <td>49.22</td>\n",
              "      <td>48.00</td>\n",
              "      <td>48.32</td>\n",
              "      <td>48.32</td>\n",
              "      <td>8400800</td>\n",
              "      <td>0.0</td>\n",
              "      <td>1.0</td>\n",
              "    </tr>\n",
              "    <tr>\n",
              "      <th>1</th>\n",
              "      <td>2019-01-24</td>\n",
              "      <td>49.19</td>\n",
              "      <td>49.57</td>\n",
              "      <td>48.75</td>\n",
              "      <td>48.95</td>\n",
              "      <td>48.95</td>\n",
              "      <td>9903400</td>\n",
              "      <td>0.0</td>\n",
              "      <td>1.0</td>\n",
              "    </tr>\n",
              "    <tr>\n",
              "      <th>2</th>\n",
              "      <td>2019-01-23</td>\n",
              "      <td>48.45</td>\n",
              "      <td>49.42</td>\n",
              "      <td>48.20</td>\n",
              "      <td>49.20</td>\n",
              "      <td>49.20</td>\n",
              "      <td>10197300</td>\n",
              "      <td>0.0</td>\n",
              "      <td>1.0</td>\n",
              "    </tr>\n",
              "    <tr>\n",
              "      <th>3</th>\n",
              "      <td>2019-01-22</td>\n",
              "      <td>48.40</td>\n",
              "      <td>48.92</td>\n",
              "      <td>47.93</td>\n",
              "      <td>48.20</td>\n",
              "      <td>48.20</td>\n",
              "      <td>10193300</td>\n",
              "      <td>0.0</td>\n",
              "      <td>1.0</td>\n",
              "    </tr>\n",
              "    <tr>\n",
              "      <th>4</th>\n",
              "      <td>2019-01-21</td>\n",
              "      <td>48.62</td>\n",
              "      <td>48.75</td>\n",
              "      <td>47.70</td>\n",
              "      <td>48.29</td>\n",
              "      <td>48.29</td>\n",
              "      <td>8299600</td>\n",
              "      <td>0.0</td>\n",
              "      <td>1.0</td>\n",
              "    </tr>\n",
              "  </tbody>\n",
              "</table>\n",
              "</div>"
            ],
            "text/plain": [
              "    timestamp   open   high    low  close  adjusted_close    volume  \\\n",
              "0  2019-01-28  48.00  49.22  48.00  48.32           48.32   8400800   \n",
              "1  2019-01-24  49.19  49.57  48.75  48.95           48.95   9903400   \n",
              "2  2019-01-23  48.45  49.42  48.20  49.20           49.20  10197300   \n",
              "3  2019-01-22  48.40  48.92  47.93  48.20           48.20  10193300   \n",
              "4  2019-01-21  48.62  48.75  47.70  48.29           48.29   8299600   \n",
              "\n",
              "   dividend_amount  split_coefficient  \n",
              "0              0.0                1.0  \n",
              "1              0.0                1.0  \n",
              "2              0.0                1.0  \n",
              "3              0.0                1.0  \n",
              "4              0.0                1.0  "
            ]
          },
          "metadata": {
            "tags": []
          },
          "execution_count": 158
        }
      ]
    },
    {
      "metadata": {
        "id": "vCQG_20TVyQK",
        "colab_type": "code",
        "colab": {
          "base_uri": "https://localhost:8080/",
          "height": 300
        },
        "outputId": "c3387bbf-d83b-4cd1-eba3-dfe3060c9cb5"
      },
      "cell_type": "code",
      "source": [
        "banksStockList.correlation_StockPhaseTable('close')"
      ],
      "execution_count": 159,
      "outputs": [
        {
          "output_type": "execute_result",
          "data": {
            "text/html": [
              "<div>\n",
              "<style scoped>\n",
              "    .dataframe tbody tr th:only-of-type {\n",
              "        vertical-align: middle;\n",
              "    }\n",
              "\n",
              "    .dataframe tbody tr th {\n",
              "        vertical-align: top;\n",
              "    }\n",
              "\n",
              "    .dataframe thead th {\n",
              "        text-align: right;\n",
              "    }\n",
              "</style>\n",
              "<table border=\"1\" class=\"dataframe\">\n",
              "  <thead>\n",
              "    <tr style=\"text-align: right;\">\n",
              "      <th></th>\n",
              "      <th>BBAS3.SA</th>\n",
              "      <th>ITUB3.SA</th>\n",
              "      <th>BRSR6.SA</th>\n",
              "      <th>BBDC3.SA</th>\n",
              "      <th>SANB11.SA</th>\n",
              "      <th>BBDC4.SA</th>\n",
              "      <th>ITUB4.SA</th>\n",
              "      <th>BIDI4.SA</th>\n",
              "    </tr>\n",
              "  </thead>\n",
              "  <tbody>\n",
              "    <tr>\n",
              "      <th>BBAS3.SA</th>\n",
              "      <td>1.000000</td>\n",
              "      <td>0.726338</td>\n",
              "      <td>0.991996</td>\n",
              "      <td>0.977826</td>\n",
              "      <td>-0.544470</td>\n",
              "      <td>0.980284</td>\n",
              "      <td>0.716663</td>\n",
              "      <td>0.909376</td>\n",
              "    </tr>\n",
              "    <tr>\n",
              "      <th>ITUB3.SA</th>\n",
              "      <td>0.726338</td>\n",
              "      <td>1.000000</td>\n",
              "      <td>0.703626</td>\n",
              "      <td>0.655500</td>\n",
              "      <td>-0.606256</td>\n",
              "      <td>0.647050</td>\n",
              "      <td>0.994178</td>\n",
              "      <td>0.513090</td>\n",
              "    </tr>\n",
              "    <tr>\n",
              "      <th>BRSR6.SA</th>\n",
              "      <td>0.991996</td>\n",
              "      <td>0.703626</td>\n",
              "      <td>1.000000</td>\n",
              "      <td>0.985326</td>\n",
              "      <td>-0.565485</td>\n",
              "      <td>0.987609</td>\n",
              "      <td>0.696132</td>\n",
              "      <td>0.903754</td>\n",
              "    </tr>\n",
              "    <tr>\n",
              "      <th>BBDC3.SA</th>\n",
              "      <td>0.977826</td>\n",
              "      <td>0.655500</td>\n",
              "      <td>0.985326</td>\n",
              "      <td>1.000000</td>\n",
              "      <td>-0.519834</td>\n",
              "      <td>0.999007</td>\n",
              "      <td>0.643282</td>\n",
              "      <td>0.887663</td>\n",
              "    </tr>\n",
              "    <tr>\n",
              "      <th>SANB11.SA</th>\n",
              "      <td>-0.544470</td>\n",
              "      <td>-0.606256</td>\n",
              "      <td>-0.565485</td>\n",
              "      <td>-0.519834</td>\n",
              "      <td>1.000000</td>\n",
              "      <td>-0.525281</td>\n",
              "      <td>-0.592571</td>\n",
              "      <td>-0.349032</td>\n",
              "    </tr>\n",
              "    <tr>\n",
              "      <th>BBDC4.SA</th>\n",
              "      <td>0.980284</td>\n",
              "      <td>0.647050</td>\n",
              "      <td>0.987609</td>\n",
              "      <td>0.999007</td>\n",
              "      <td>-0.525281</td>\n",
              "      <td>1.000000</td>\n",
              "      <td>0.634746</td>\n",
              "      <td>0.898197</td>\n",
              "    </tr>\n",
              "    <tr>\n",
              "      <th>ITUB4.SA</th>\n",
              "      <td>0.716663</td>\n",
              "      <td>0.994178</td>\n",
              "      <td>0.696132</td>\n",
              "      <td>0.643282</td>\n",
              "      <td>-0.592571</td>\n",
              "      <td>0.634746</td>\n",
              "      <td>1.000000</td>\n",
              "      <td>0.508665</td>\n",
              "    </tr>\n",
              "    <tr>\n",
              "      <th>BIDI4.SA</th>\n",
              "      <td>0.909376</td>\n",
              "      <td>0.513090</td>\n",
              "      <td>0.903754</td>\n",
              "      <td>0.887663</td>\n",
              "      <td>-0.349032</td>\n",
              "      <td>0.898197</td>\n",
              "      <td>0.508665</td>\n",
              "      <td>1.000000</td>\n",
              "    </tr>\n",
              "  </tbody>\n",
              "</table>\n",
              "</div>"
            ],
            "text/plain": [
              "           BBAS3.SA  ITUB3.SA  BRSR6.SA  BBDC3.SA  SANB11.SA  BBDC4.SA  \\\n",
              "BBAS3.SA   1.000000  0.726338  0.991996  0.977826  -0.544470  0.980284   \n",
              "ITUB3.SA   0.726338  1.000000  0.703626  0.655500  -0.606256  0.647050   \n",
              "BRSR6.SA   0.991996  0.703626  1.000000  0.985326  -0.565485  0.987609   \n",
              "BBDC3.SA   0.977826  0.655500  0.985326  1.000000  -0.519834  0.999007   \n",
              "SANB11.SA -0.544470 -0.606256 -0.565485 -0.519834   1.000000 -0.525281   \n",
              "BBDC4.SA   0.980284  0.647050  0.987609  0.999007  -0.525281  1.000000   \n",
              "ITUB4.SA   0.716663  0.994178  0.696132  0.643282  -0.592571  0.634746   \n",
              "BIDI4.SA   0.909376  0.513090  0.903754  0.887663  -0.349032  0.898197   \n",
              "\n",
              "           ITUB4.SA  BIDI4.SA  \n",
              "BBAS3.SA   0.716663  0.909376  \n",
              "ITUB3.SA   0.994178  0.513090  \n",
              "BRSR6.SA   0.696132  0.903754  \n",
              "BBDC3.SA   0.643282  0.887663  \n",
              "SANB11.SA -0.592571 -0.349032  \n",
              "BBDC4.SA   0.634746  0.898197  \n",
              "ITUB4.SA   1.000000  0.508665  \n",
              "BIDI4.SA   0.508665  1.000000  "
            ]
          },
          "metadata": {
            "tags": []
          },
          "execution_count": 159
        }
      ]
    },
    {
      "metadata": {
        "id": "uwVHLsELWOds",
        "colab_type": "code",
        "colab": {
          "base_uri": "https://localhost:8080/",
          "height": 757
        },
        "outputId": "0497b8f5-3669-4bc0-f154-ea9d8b000a2e"
      },
      "cell_type": "code",
      "source": [
        "banksStockList.plot_candles_StockData('BBAS3.SA')"
      ],
      "execution_count": 140,
      "outputs": [
        {
          "output_type": "display_data",
          "data": {
            "image/png": "[encoded data removed]",
            "text/plain": [
              "<Figure size 864x864 with 2 Axes>"
            ]
          },
          "metadata": {
            "tags": []
          }
        }
      ]
    },
    {
      "metadata": {
        "id": "PNuSHidHWl2E",
        "colab_type": "code",
        "colab": {
          "base_uri": "https://localhost:8080/",
          "height": 757
        },
        "outputId": "0baf89a4-3779-4125-f3bc-f02f0f86a2a3"
      },
      "cell_type": "code",
      "source": [
        "banksStockList.plot_candles_StockData('BBDC3.SA')"
      ],
      "execution_count": 141,
      "outputs": [
        {
          "output_type": "display_data",
          "data": {
            "image/png": "[encoded data removed]",
            "text/plain": [
              "<Figure size 864x864 with 2 Axes>"
            ]
          },
          "metadata": {
            "tags": []
          }
        }
      ]
    },
    {
      "metadata": {
        "id": "NDQkD6tGWvw7",
        "colab_type": "code",
        "colab": {
          "base_uri": "https://localhost:8080/",
          "height": 757
        },
        "outputId": "2fad746b-3ff3-4285-8f6c-9a62cfa68d9f"
      },
      "cell_type": "code",
      "source": [
        "banksStockList.plot_candles_StockData('SANB11.SA')"
      ],
      "execution_count": 142,
      "outputs": [
        {
          "output_type": "display_data",
          "data": {
            "image/png": "[encoded data removed]",
            "text/plain": [
              "<Figure size 864x864 with 2 Axes>"
            ]
          },
          "metadata": {
            "tags": []
          }
        }
      ]
    }
  ]
}