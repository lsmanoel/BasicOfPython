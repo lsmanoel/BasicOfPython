{
  "nbformat": 4,
  "nbformat_minor": 0,
  "metadata": {
    "colab": {
      "name": "DependencyInjection.ipynb",
      "provenance": [],
      "authorship_tag": "ABX9TyORRVGaO3mcIJTzGvkWmF91",
      "include_colab_link": true
    },
    "kernelspec": {
      "name": "python3",
      "display_name": "Python 3"
    }
  },
  "cells": [
    {
      "cell_type": "markdown",
      "metadata": {
        "id": "view-in-github",
        "colab_type": "text"
      },
      "source": [
        "<a href=\"https://colab.research.google.com/github/lsmanoel/BasicOfPython/blob/master/DependencyInjection.ipynb\" target=\"_parent\"><img src=\"https://colab.research.google.com/assets/colab-badge.svg\" alt=\"Open In Colab\"/></a>"
      ]
    },
    {
      "cell_type": "markdown",
      "metadata": {
        "id": "gzMKV6eMNAHv",
        "colab_type": "text"
      },
      "source": [
        "# Dependency Injection: Python\n",
        "\n",
        "by [Shivam Aggarwal](https://medium.com/@shivama205/dependency-injection-python-cb2b5f336dce)"
      ]
    },
    {
      "cell_type": "markdown",
      "metadata": {
        "id": "-M8NNzOjOhdm",
        "colab_type": "text"
      },
      "source": [
        "Python has a microframework library for DI, called [dependency_injector](https://github.com/ets-labs/python-dependency-injector)."
      ]
    },
    {
      "cell_type": "code",
      "metadata": {
        "id": "wxyXPGMwNbv2",
        "colab_type": "code",
        "colab": {}
      },
      "source": [
        "from dependency_injector import providers, containers\n",
        "from email_client import EmailClient\n",
        "from email_reader import EmailReader"
      ],
      "execution_count": null,
      "outputs": []
    },
    {
      "cell_type": "code",
      "metadata": {
        "id": "VfhCwUwuM_rc",
        "colab_type": "code",
        "colab": {}
      },
      "source": [
        "class EmailClient(object):   \n",
        "    def __init__(self, config):\n",
        "        self._config = config\n",
        "        self.connect(self._config)\n",
        "        \n",
        "    def connect(self, config):\n",
        "        # Implement function here\n",
        "        pass\n",
        "\n",
        "class EmailReader(object):   \n",
        "    def __init__(self, client):\n",
        "        try:\n",
        "            self._client = client\n",
        "        except Exception as e:\n",
        "            raise e\n",
        "            \n",
        "    def read(self):\n",
        "        # Implement function here\n",
        "        pass\n"
      ],
      "execution_count": null,
      "outputs": []
    },
    {
      "cell_type": "markdown",
      "metadata": {
        "id": "kIjT-_mNNoqg",
        "colab_type": "text"
      },
      "source": [
        "**Configs** class is a container with a configuration provider which provides all the configuration objects:"
      ]
    },
    {
      "cell_type": "code",
      "metadata": {
        "id": "n56hNN7xM-q-",
        "colab_type": "code",
        "colab": {}
      },
      "source": [
        "class Configs(containers.DeclarativeContainer):\n",
        "    config = providers.Configuration('config')\n",
        "    # other configs"
      ],
      "execution_count": null,
      "outputs": []
    },
    {
      "cell_type": "markdown",
      "metadata": {
        "id": "u6UqKSa_ODa8",
        "colab_type": "text"
      },
      "source": [
        "**Clients** class is a container defining all kinds of clients. EmailClient is created with a singleton provider, asserting a single instance of this class, and defining its dependency on the config object:"
      ]
    },
    {
      "cell_type": "code",
      "metadata": {
        "id": "X0d6uFQfOApL",
        "colab_type": "code",
        "colab": {}
      },
      "source": [
        "class Clients(containers.DeclarativeContainer):\n",
        "    email_client = providers.Singleton(EmailClient, Configs.config)\n",
        "    # other clients "
      ],
      "execution_count": null,
      "outputs": []
    },
    {
      "cell_type": "markdown",
      "metadata": {
        "id": "IUGMK0wvNviO",
        "colab_type": "text"
      },
      "source": [
        "The third container is **Readers** class, defining dependency of EmailReader class on EmailClient class:"
      ]
    },
    {
      "cell_type": "code",
      "metadata": {
        "id": "ZdGNc5QsN1qS",
        "colab_type": "code",
        "colab": {}
      },
      "source": [
        "class Readers(containers.DeclarativeContainer):\n",
        "    email_reader = providers.Factory(EmailReader, client=Clients.email_client)\n",
        "    # other readers "
      ],
      "execution_count": null,
      "outputs": []
    },
    {
      "cell_type": "markdown",
      "metadata": {
        "id": "p4AYwwjxOLE6",
        "colab_type": "text"
      },
      "source": [
        "Main:"
      ]
    },
    {
      "cell_type": "code",
      "metadata": {
        "id": "CQnxC7t9OJ8g",
        "colab_type": "code",
        "colab": {}
      },
      "source": [
        "# Main\n",
        "Configs.config.override({\n",
        "    \"domain_name\": \"imap.gmail.com\",\n",
        "    \"email_address\": \"YOUR_EMAIL_ADDRESS\",\n",
        "    \"password\": \"YOUR_PASSWORD\",\n",
        "    \"mailbox\": \"INBOX\"\n",
        "})\n",
        "email_reader = Readers.email_reader()\n",
        "print email_reader.read()"
      ],
      "execution_count": null,
      "outputs": []
    },
    {
      "cell_type": "markdown",
      "metadata": {
        "id": "IRHFO4pXOaQv",
        "colab_type": "text"
      },
      "source": [
        "In the **Main**, config object is overridden with a given dictionary object. EmailReader class was instantiated without instantiating EmailClient class in main file, removing the overhead of importing or creating it. That part is taken care of by containers file."
      ]
    }
  ]
}