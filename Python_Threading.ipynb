{
  "nbformat": 4,
  "nbformat_minor": 0,
  "metadata": {
    "colab": {
      "name": "Python_Threading.ipynb",
      "version": "0.3.2",
      "provenance": [],
      "collapsed_sections": [],
      "include_colab_link": true
    },
    "kernelspec": {
      "name": "python3",
      "display_name": "Python 3"
    }
  },
  "cells": [
    {
      "cell_type": "markdown",
      "metadata": {
        "id": "view-in-github",
        "colab_type": "text"
      },
      "source": [
        "<a href=\"https://colab.research.google.com/github/lsmanoel/BasicOfPython/blob/master/Python_Threading.ipynb\" target=\"_parent\"><img src=\"https://colab.research.google.com/assets/colab-badge.svg\" alt=\"Open In Colab\"/></a>"
      ]
    },
    {
      "metadata": {
        "id": "imoM-BqIhzN8",
        "colab_type": "text"
      },
      "cell_type": "markdown",
      "source": [
        "[threading – Manage concurrent threads](https://pymotw.com/2/threading/)"
      ]
    },
    {
      "metadata": {
        "id": "QxHmRY1h6UAA",
        "colab_type": "code",
        "outputId": "930501b7-372e-448a-a533-b84ac0fdc869",
        "colab": {
          "base_uri": "https://localhost:8080/",
          "height": 211
        }
      },
      "cell_type": "code",
      "source": [
        "import random\n",
        "import threading\n",
        "import time\n",
        "\n",
        "def thread_process(thread_id):\n",
        "    start = time.time()    \n",
        "    random_list=[]\n",
        "    for i in range(10000):\n",
        "      random_list.append(random.gauss(0, 1))\n",
        "    result = sum(random_list)/len(random_list)\n",
        "    end = time.time()\n",
        "    elapsed_time = end-start\n",
        "    print(\"Thread id:\", thread_id, \n",
        "          \"\\tresult:\", result, \n",
        "          \"\\ttime:\", elapsed_time)\n",
        "\n",
        "\n",
        "number_of_threads = 10\n",
        "thread_list = []\n",
        "for i in range(number_of_threads):\n",
        "  thread_list.append(threading.Thread(target=thread_process, args=(i,)))\n",
        "\n",
        "for thread in thread_list: \n",
        "  thread.start()\n"
      ],
      "execution_count": 0,
      "outputs": [
        {
          "output_type": "stream",
          "text": [
            "Thread id:Thread id: Thread id: 0 1  \tresult:\tresult:  0.00729767893196311820.0007321588264651762  \ttime:\ttime: 0.010356426239013672 \n",
            "0.011078357696533203Thread id:\n",
            "  4 \tresult:Thread id:  3 0.012753875567110553\tresult:\tresult:  -0.00324026755591779 \ttime: 0.010679960250854492\n",
            " 0.0008021123941943946Thread id:\ttime:  Thread id: \ttime:5   60.022418737411499023\tresult: \n",
            " \tresult: 0.00534620629578781-0.007059128743878433 0.009694337844848633Thread id:Thread id: \ttime:\n",
            "  \ttime: 78 0.009882450103759766  0.01131749153137207\n",
            "\tresult:\tresult:\n",
            "  -0.0041816945221286830.00683158791384075 \ttime:  \ttime: 0.0115287303924560550.02411627769470215\n",
            "\n",
            "Thread id: 9 \tresult: -0.0035833070705638854 \ttime: 0.025722742080688477\n"
          ],
          "name": "stdout"
        }
      ]
    },
    {
      "metadata": {
        "id": "QJwiOHp2_yEn",
        "colab_type": "code",
        "outputId": "fb49fd4a-d185-4e9c-8374-0a7b9b8cd775",
        "colab": {
          "base_uri": "https://localhost:8080/",
          "height": 191
        }
      },
      "cell_type": "code",
      "source": [
        "import random\n",
        "import threading\n",
        "import time\n",
        "import queueimport random\n",
        "import threading\n",
        "import time\n",
        "import queue\n",
        "      \n",
        "def thread_process(thread_id, data_queue):\n",
        "    start = time.time()    \n",
        "    random_list=[]\n",
        "    for i in range(10000):\n",
        "      random_list.append(random.gauss(0, 1))\n",
        "    result = sum(random_list)/len(random_list)\n",
        "    end = time.time()\n",
        "    elapsed_time = end-start\n",
        "    data_queue.put((thread_id, result, elapsed_time))\n",
        "\n",
        "data_queue = queue.Queue(maxsize=0)\n",
        "\n",
        "number_of_threads = 10\n",
        "thread_list = []\n",
        "for i in range(number_of_threads):\n",
        "  thread_list.append(threading.Thread(target=thread_process, \n",
        "                                      args=(i, data_queue)))\n",
        "\n",
        "for thread in thread_list: \n",
        "  thread.start()\n",
        "\n",
        "while not data_queue.empty():\n",
        "  data = data_queue.get()\n",
        "  print(\"Thread id:\", data[0], \n",
        "        \"\\tresult:\", data[1], \n",
        "        \"\\ttime:\", data[2])\n"
      ],
      "execution_count": 0,
      "outputs": [
        {
          "output_type": "stream",
          "text": [
            "Thread id: 0 \tresult: -0.028303397629652432 \ttime: 0.010069131851196289\n",
            "Thread id: 1 \tresult: 0.010546943251625723 \ttime: 0.01052403450012207\n",
            "Thread id: 2 \tresult: 0.006701169621253302 \ttime: 0.01524043083190918\n",
            "Thread id: 3 \tresult: -0.0028420335333731637 \ttime: 0.014154195785522461\n",
            "Thread id: 4 \tresult: -0.0004354119395722547 \ttime: 0.009514808654785156\n",
            "Thread id: 5 \tresult: -0.00528103800913744 \ttime: 0.014681577682495117\n",
            "Thread id: 6 \tresult: -0.01962295709850512 \ttime: 0.019273042678833008\n",
            "Thread id: 7 \tresult: -0.02503545119405783 \ttime: 0.014744758605957031\n",
            "Thread id: 9 \tresult: 0.004198619320061292 \ttime: 0.009975433349609375\n",
            "Thread id: 8 \tresult: -0.001997510325682731 \ttime: 0.02048325538635254\n"
          ],
          "name": "stdout"
        }
      ]
    },
    {
      "metadata": {
        "id": "1HvLt8Jd2esL",
        "colab_type": "code",
        "outputId": "ebf58224-12c1-44f9-da19-56b588c374ad",
        "colab": {
          "base_uri": "https://localhost:8080/",
          "height": 191
        }
      },
      "cell_type": "code",
      "source": [
        "import random\n",
        "import threading\n",
        "import time\n",
        "import queue\n",
        "\n",
        "class ThreadProcess(threading.Thread):\n",
        "  def __init__(self, thread_id, data_queue):\n",
        "    threading.Thread.__init__(self)\n",
        "    self.thread_id = thread_id\n",
        "    self.data_queue = data_queue\n",
        "    \n",
        "  def run(self):  \n",
        "    start = time.time()    \n",
        "    random_list=[]\n",
        "    for i in range(10000):\n",
        "      random_list.append(random.gauss(0, 1))\n",
        "    result = sum(random_list)/len(random_list)\n",
        "    end = time.time()\n",
        "    elapsed_time = end-start\n",
        "    self.data_queue.put((self.thread_id, result, elapsed_time))\n",
        "\n",
        "data_queue = queue.Queue(maxsize=0)\n",
        "\n",
        "number_of_threads = 10\n",
        "thread_list = []\n",
        "for i in range(number_of_threads):\n",
        "  thread_list.append(ThreadProcess(i, data_queue))\n",
        "  \n",
        "for thread in thread_list: \n",
        "  thread.start()\n",
        "  \n",
        "while not data_queue.empty():\n",
        "  data = data_queue.get()\n",
        "  print(\"Thread id:\", data[0], \n",
        "        \"\\tresult:\", data[1], \n",
        "        \"\\ttime:\", data[2])"
      ],
      "execution_count": 0,
      "outputs": [
        {
          "output_type": "stream",
          "text": [
            "Thread id: 3 \tresult: -0.0008442894278373749 \ttime: 0.010078907012939453\n",
            "Thread id: 4 \tresult: 0.010016338666810542 \ttime: 0.009172916412353516\n",
            "Thread id: 0 \tresult: 0.019098561165791485 \ttime: 0.05072975158691406\n",
            "Thread id: 2 \tresult: 0.008893992077365187 \ttime: 0.03559422492980957\n",
            "Thread id: 1 \tresult: 0.001143558584547117 \ttime: 0.053105831146240234\n",
            "Thread id: 5 \tresult: -0.0049599351229543944 \ttime: 0.015101194381713867\n",
            "Thread id: 6 \tresult: -0.007920434245592392 \ttime: 0.00920724868774414\n",
            "Thread id: 7 \tresult: 0.006137362280990583 \ttime: 0.009274482727050781\n",
            "Thread id: 8 \tresult: 0.001933981996519237 \ttime: 0.009056329727172852\n",
            "Thread id: 9 \tresult: 0.00771049239312626 \ttime: 0.009522676467895508\n"
          ],
          "name": "stdout"
        }
      ]
    },
    {
      "metadata": {
        "id": "M5qQsTkJPy73",
        "colab_type": "code",
        "outputId": "2bf9147a-2746-4223-f448-c4740c113869",
        "colab": {
          "base_uri": "https://localhost:8080/",
          "height": 208
        }
      },
      "cell_type": "code",
      "source": [
        "import random\n",
        "import threading\n",
        "import time\n",
        "import queue\n",
        "\n",
        "class ThreadProcess(threading.Thread):\n",
        "  def __init__(self, thread_id, data_queue):\n",
        "    threading.Thread.__init__(self)\n",
        "    self.thread_id = thread_id\n",
        "    self.data_queue = data_queue\n",
        "    \n",
        "  def run(self):  \n",
        "    start = time.time()    \n",
        "    random_list=[]\n",
        "    for i in range(100000):\n",
        "      random_list.append(random.gauss(0, 1))\n",
        "    result = sum(random_list)/len(random_list)\n",
        "    end = time.time()\n",
        "    elapsed_time = end-start\n",
        "    self.data_queue.put((self.thread_id, result, elapsed_time))\n",
        "\n",
        "class ThreadService(threading.Thread):\n",
        "  def __init__(self, thread_list):\n",
        "    threading.Thread.__init__(self)\n",
        "    self.thread_list = thread_list\n",
        "    self.shotdown = False\n",
        "    \n",
        "  def run(self):\n",
        "    start = time.time()\n",
        "    \n",
        "    for thread in thread_list: \n",
        "      thread.start()   \n",
        "    \n",
        "    for thread in thread_list:\n",
        "      thread.join()\n",
        "\n",
        "    end = time.time()\n",
        "    elapsed_time = end-start      \n",
        "    print(\"total elapsed time\", elapsed_time)\n",
        "      \n",
        "      \n",
        "data_queue = queue.Queue(maxsize=0)\n",
        "  \n",
        "number_of_threads = 10\n",
        "thread_list = []\n",
        "for i in range(number_of_threads):\n",
        "  thread_list.append(ThreadProcess(i, data_queue))\n",
        "\n",
        "service = ThreadService(thread_list)\n",
        "  \n",
        "service.start()\n",
        "service.join()\n",
        "\n",
        "for thread in thread_list:\n",
        "  data = data_queue.get()\n",
        "  print(\"Thread id:\", data[0], \n",
        "        \"\\tresult:\", data[1], \n",
        "        \"\\ttime:\", data[2])"
      ],
      "execution_count": 0,
      "outputs": [
        {
          "output_type": "stream",
          "text": [
            "total elapsed time 0.9705297946929932\n",
            "Thread id: 2 \tresult: -0.0003983359502551464 \ttime: 0.45143890380859375\n",
            "Thread id: 1 \tresult: 0.001608963447933671 \ttime: 0.5012917518615723\n",
            "Thread id: 7 \tresult: -0.003402317356170967 \ttime: 0.46595168113708496\n",
            "Thread id: 5 \tresult: -0.0033121991195197704 \ttime: 0.5603644847869873\n",
            "Thread id: 3 \tresult: 0.0028855305126162653 \ttime: 0.6178805828094482\n",
            "Thread id: 4 \tresult: -0.0011414424700378015 \ttime: 0.6686437129974365\n",
            "Thread id: 8 \tresult: 0.001797832458313844 \ttime: 0.6164796352386475\n",
            "Thread id: 6 \tresult: -0.0025444027982907316 \ttime: 0.7780826091766357\n",
            "Thread id: 0 \tresult: 7.499750654950757e-05 \ttime: 0.9356307983398438\n",
            "Thread id: 9 \tresult: 0.0004966905558504247 \ttime: 0.547527551651001\n"
          ],
          "name": "stdout"
        }
      ]
    },
    {
      "metadata": {
        "id": "ICUey2vxYSpU",
        "colab_type": "code",
        "outputId": "b8975b4a-f7dc-4dd1-f747-4ddae37139dc",
        "colab": {
          "base_uri": "https://localhost:8080/",
          "height": 208
        }
      },
      "cell_type": "code",
      "source": [
        "import random\n",
        "import threading\n",
        "import time\n",
        "import queue\n",
        "\n",
        "class ThreadProcess(threading.Thread):\n",
        "  def __init__(self, thread_id, data_queue):\n",
        "    threading.Thread.__init__(self)\n",
        "    self.thread_id = thread_id\n",
        "    self.data_queue = data_queue\n",
        "    \n",
        "  def run(self):  \n",
        "    start = time.time()    \n",
        "    random_list=[]\n",
        "    for i in range(100000):\n",
        "      random_list.append(random.gauss(0, 1))\n",
        "    result = sum(random_list)/len(random_list)\n",
        "    end = time.time()\n",
        "    elapsed_time = end-start\n",
        "    self.data_queue.put((self.thread_id, result, elapsed_time))\n",
        "\n",
        "class ThreadService(threading.Thread):\n",
        "  def __init__(self, thread_list):\n",
        "    threading.Thread.__init__(self)\n",
        "    self.thread_list = thread_list\n",
        "    self.shotdown = False\n",
        "    \n",
        "  def run(self):\n",
        "    start = time.time()\n",
        "    \n",
        "    for thread in self.thread_list: \n",
        "      thread.start()   \n",
        "    \n",
        "    for thread in self.thread_list:\n",
        "      thread.join()\n",
        "\n",
        "    end = time.time()\n",
        "    elapsed_time = end-start      \n",
        "    print(\"total elapsed time\", elapsed_time)\n",
        "      \n",
        "      \n",
        "data_queue = queue.Queue(maxsize=0)\n",
        "  \n",
        "number_of_threads = 10\n",
        "thread_list = []\n",
        "for i in range(number_of_threads):\n",
        "  thread_list.append(ThreadProcess(i, data_queue))\n",
        "\n",
        "service = ThreadService(thread_list)\n",
        "  \n",
        "service.start()\n",
        "service.join()\n",
        "\n",
        "for thread in thread_list:\n",
        "  data = data_queue.get()\n",
        "  print(\"Thread id:\", data[0], \n",
        "        \"\\tresult:\", data[1], \n",
        "        \"\\ttime:\", data[2])"
      ],
      "execution_count": 0,
      "outputs": [
        {
          "output_type": "stream",
          "text": [
            "total elapsed time 0.9547436237335205\n",
            "Thread id: 0 \tresult: 0.002102929072380454 \ttime: 0.22971773147583008\n",
            "Thread id: 2 \tresult: -0.0006684097379880287 \ttime: 0.20853590965270996\n",
            "Thread id: 5 \tresult: 0.0022965412808811443 \ttime: 0.27469658851623535\n",
            "Thread id: 6 \tresult: 0.0001380328824926619 \ttime: 0.29375481605529785\n",
            "Thread id: 8 \tresult: -0.0013028069030323016 \ttime: 0.3888401985168457\n",
            "Thread id: 1 \tresult: -0.0059168654795470005 \ttime: 0.7648241519927979\n",
            "Thread id: 3 \tresult: -0.0002896303161773969 \ttime: 0.6889116764068604\n",
            "Thread id: 7 \tresult: -0.006355973519008095 \ttime: 0.47239065170288086\n",
            "Thread id: 4 \tresult: 0.0035437678078663356 \ttime: 0.651329517364502\n",
            "Thread id: 9 \tresult: 0.002846476335630513 \ttime: 0.1569201946258545\n"
          ],
          "name": "stdout"
        }
      ]
    },
    {
      "metadata": {
        "id": "6LoIGLIIcftn",
        "colab_type": "code",
        "outputId": "e8e60800-2fb8-4505-a77b-d98d271a0d7b",
        "colab": {
          "base_uri": "https://localhost:8080/",
          "height": 225
        }
      },
      "cell_type": "code",
      "source": [
        "import threading\n",
        "import time\n",
        "\n",
        "\n",
        "class ThreadInfiniteProcess(threading.Thread):\n",
        "  def __init__(self, thread_id):\n",
        "    threading.Thread.__init__(self)\n",
        "    self.thread_id = thread_id\n",
        "    \n",
        "  def run(self):  \n",
        "    start = time.time()    \n",
        "    while 1:\n",
        "      time.sleep(.1)\n",
        "      print(\"-->\", time.time()-start)\n",
        "\n",
        "class ThreadService(threading.Thread):\n",
        "  def __init__(self, thread_list):\n",
        "    threading.Thread.__init__(self)\n",
        "    self.thread_list = thread_list\n",
        "    self.shotdown = False\n",
        "    \n",
        "  def run(self):\n",
        "    start = time.time()\n",
        "    \n",
        "    for thread in thread_list: \n",
        "      thread.setDaemon(True)\n",
        "      \n",
        "    for thread in thread_list: \n",
        "      thread.start()\n",
        "      \n",
        "    time.sleep(1)\n",
        "\n",
        "    end = time.time()\n",
        "    elapsed_time = end-start      \n",
        "    print(\"total elapsed time\", elapsed_time)\n",
        "      \n",
        "number_of_threads = 1\n",
        "thread_list = []\n",
        "for i in range(number_of_threads):\n",
        "  thread_list.append(ThreadInfiniteProcess(i))\n",
        "\n",
        "service = ThreadService(thread_list)\n",
        "service.start()\n",
        "service.join()\n",
        "\n",
        "print(\"END!\")"
      ],
      "execution_count": 0,
      "outputs": [
        {
          "output_type": "stream",
          "text": [
            "--> 0.1002347469329834\n",
            "--> 0.2012772560119629\n",
            "--> 0.301616907119751\n",
            "--> 0.4019768238067627\n",
            "--> 0.5023586750030518\n",
            "--> 0.6030685901641846\n",
            "--> 0.7044644355773926\n",
            "--> 0.8048350811004639\n",
            "--> 0.905221700668335\n",
            "total elapsed time 1.0012483596801758\n",
            "END!\n",
            "--> 1.0062460899353027\n"
          ],
          "name": "stdout"
        }
      ]
    }
  ]
}