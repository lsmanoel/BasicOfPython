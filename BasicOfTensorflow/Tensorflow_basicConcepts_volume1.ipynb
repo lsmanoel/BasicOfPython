{
  "nbformat": 4,
  "nbformat_minor": 0,
  "metadata": {
    "colab": {
      "name": "Tensorflow_basicConcepts_1.ipynb",
      "version": "0.3.2",
      "provenance": [],
      "collapsed_sections": [],
      "include_colab_link": true
    },
    "kernelspec": {
      "name": "python3",
      "display_name": "Python 3"
    }
  },
  "cells": [
    {
      "cell_type": "markdown",
      "metadata": {
        "id": "view-in-github",
        "colab_type": "text"
      },
      "source": [
        "<a href=\"https://colab.research.google.com/github/lsmanoel/BasicOfPython/blob/master/BasicOfTensorflow/Tensorflow_basicConcepts_volume1.ipynb\" target=\"_parent\"><img src=\"https://colab.research.google.com/assets/colab-badge.svg\" alt=\"Open In Colab\"/></a>"
      ]
    },
    {
      "metadata": {
        "id": "NiK4vN49xn88",
        "colab_type": "text"
      },
      "cell_type": "markdown",
      "source": [
        "# Basic Concepts of Tensorflow - Volume 1\n",
        "\n",
        "By Lucas Seara Manoel\n",
        "\n",
        "More in [tensorflow.org/tutorials/](https://www.tensorflow.org/tutorials/)"
      ]
    },
    {
      "metadata": {
        "id": "HOEzfnlrYoDL",
        "colab_type": "text"
      },
      "cell_type": "markdown",
      "source": [
        "# Tensors :\n",
        "[tensorflow.org/guide/tensors](https://www.tensorflow.org/guide/tensors)\n",
        "\n",
        "TensorFlow, as the name indicates, is a framework to define and run computations involving tensors. A tensor is a generalization of vectors and matrices to potentially higher dimensions. Internally, TensorFlow represents tensors as n-dimensional arrays of base datatypes. Some types of tensors are special, and these will be covered in other units of the TensorFlow guide. The main ones are:\n",
        "\n",
        " *   tf.Variable\n",
        " *   tf.constant\n",
        " *  tf.placeholder\n",
        " *  tf.SparseTensor\n",
        "\n",
        "\n",
        "\n"
      ]
    },
    {
      "metadata": {
        "id": "Gje4Zb6cZVXz",
        "colab_type": "code",
        "outputId": "38c9f338-e7a4-4262-fb2c-f8a9c902e505",
        "colab": {
          "base_uri": "https://localhost:8080/",
          "height": 52
        }
      },
      "cell_type": "code",
      "source": [
        "import tensorflow as tf\n",
        "\n",
        "constant = tf.constant([1, 2, 3])\n",
        "tensor = constant * constant\n",
        "\n",
        "with tf.Session() as sess:\n",
        "  print(tensor)\n",
        "  print(tensor.eval())\n"
      ],
      "execution_count": 0,
      "outputs": [
        {
          "output_type": "stream",
          "text": [
            "Tensor(\"mul_3887:0\", shape=(3,), dtype=int32)\n",
            "[1 4 9]\n"
          ],
          "name": "stdout"
        }
      ]
    },
    {
      "metadata": {
        "id": "Dn1hKhN6UcXX",
        "colab_type": "text"
      },
      "cell_type": "markdown",
      "source": [
        "# Graphs and Sessions :\n",
        "[tensorflow.org/guide/graphs](https://www.tensorflow.org/guide/graphs)\n",
        "\n",
        "All computation with Tensorflow are represented by dataflow graph. First, the architecture is defined by the data flow graph and then this process is executed in a session."
      ]
    },
    {
      "metadata": {
        "id": "IbWHfExO2pdi",
        "colab_type": "text"
      },
      "cell_type": "markdown",
      "source": [
        "![alt text](https://www.tensorflow.org/images/tensors_flowing.gif)"
      ]
    },
    {
      "metadata": {
        "id": "804q2kdVE-1y",
        "colab_type": "text"
      },
      "cell_type": "markdown",
      "source": [
        "# Placeholders: \n",
        "In Tensorflow, this type  of declaration is like a variables that you dont need to provide an initial value. You can specify it at runtime, inside in the code section: **Session.run**, with an argument type called feed_dict. The Placeholders is simply a type of variable that we will assign data to at a later data. This feature allows us to create **our operations** and build our computation graph, without needing the data. Placeholders do not need to be statically sized. Let’s update our program to allow x to take on any length. Change the definition of x to be:\n",
        "\n"
      ]
    },
    {
      "metadata": {
        "id": "-ZfruaxYIN2Q",
        "colab_type": "code",
        "outputId": "bd1904db-b6c2-4578-d8e6-fb38238b9456",
        "colab": {
          "base_uri": "https://localhost:8080/",
          "height": 34
        }
      },
      "cell_type": "code",
      "source": [
        "import tensorflow as tf\n",
        "\n",
        "#-------------------------------------------------------------------------------\n",
        "#Placeholder int32 type:\n",
        "x = tf.placeholder(\"int32\", None)\n",
        "\n",
        "#-------------------------------------------------------------------------------\n",
        "#our operations:\n",
        "y = tf.pow(x, 2)\n",
        "\n",
        "#-------------------------------------------------------------------------------\n",
        "#code section: Session.run:\n",
        "with tf.Session() as sess:\n",
        "  result = sess.run(y, feed_dict={x: [1, 2, 3, 4]})\n",
        "  print(result)"
      ],
      "execution_count": 0,
      "outputs": [
        {
          "output_type": "stream",
          "text": [
            "[ 1  4  9 16]\n"
          ],
          "name": "stdout"
        }
      ]
    },
    {
      "metadata": {
        "id": "Vb9d8MbzI53j",
        "colab_type": "code",
        "outputId": "c7289b4b-fd92-497d-e991-faa47fda8e06",
        "colab": {
          "base_uri": "https://localhost:8080/",
          "height": 34
        }
      },
      "cell_type": "code",
      "source": [
        "import tensorflow as tf\n",
        "\n",
        "#-------------------------------------------------------------------------------\n",
        "#Placeholder float32 type:\n",
        "x = tf.placeholder(\"float32\", None)\n",
        "\n",
        "#-------------------------------------------------------------------------------\n",
        "#Our operations:\n",
        "y = tf.pow(x, 2)\n",
        "\n",
        "#-------------------------------------------------------------------------------\n",
        "#Code section: Session.run:\n",
        "with tf.Session() as sess:\n",
        "  result = sess.run(y, feed_dict={x: [1, 2, 3, 4]})\n",
        "  print(result)"
      ],
      "execution_count": 0,
      "outputs": [
        {
          "output_type": "stream",
          "text": [
            "[ 1.  4.  9. 16.]\n"
          ],
          "name": "stdout"
        }
      ]
    },
    {
      "metadata": {
        "id": "3ScnZBZ6H60R",
        "colab_type": "code",
        "outputId": "1b2c5083-b033-4980-a7ec-8b8f9e83a77a",
        "colab": {
          "base_uri": "https://localhost:8080/",
          "height": 52
        }
      },
      "cell_type": "code",
      "source": [
        "import tensorflow as tf\n",
        "\n",
        "def factorial(x):\n",
        "  return tf.exp(tf.lgamma(x+1))\n",
        "\n",
        "#Approximation of the sine by power series\n",
        "def sin(x, n):\n",
        "  y = x\n",
        "  sconst = -1.0\n",
        "#   sconst = tf.constant(-1.0)\n",
        "  s = sconst\n",
        "  for i in range(3, int(n), 2):\n",
        "      y = y + s*tf.divide(tf.pow(x, float(i)), factorial(float(i)))\n",
        "      s = s*sconst\n",
        "      tf.print(s)\n",
        "      \n",
        "  return y\n",
        "\n",
        "x = tf.placeholder(\"float32\", None)\n",
        "y1 = sin(x, 12)\n",
        "y2 = tf.sin(x)\n",
        "\n",
        "with tf.Session() as sess:\n",
        "    result = sess.run(y1, feed_dict={x: [0.0, 0.392699, 0.785398, 1.570796]})\n",
        "    print(result)\n",
        "    result = sess.run(y2, feed_dict={x: [0.0, 0.392699, 0.785398, 1.570796]})\n",
        "    print(result)"
      ],
      "execution_count": 0,
      "outputs": [
        {
          "output_type": "stream",
          "text": [
            "[0.         0.38268334 0.70710665 0.9999999 ]\n",
            "[0.         0.38268337 0.70710665 1.        ]\n"
          ],
          "name": "stdout"
        }
      ]
    },
    {
      "metadata": {
        "id": "4640bR6mUUV-",
        "colab_type": "text"
      },
      "cell_type": "markdown",
      "source": [
        "Placeholders can also have multiple dimensions, allowing for storing arrays. The first dimension of the placeholder is **None**, meaning we can have any number of rows. The second dimension is fixed at **3**, meaning each row needs to have three columns of data:"
      ]
    },
    {
      "metadata": {
        "id": "KxAL_60GR92a",
        "colab_type": "code",
        "outputId": "2ad86797-eac1-4dc2-b1ae-517e3f09dd37",
        "colab": {
          "base_uri": "https://localhost:8080/",
          "height": 52
        }
      },
      "cell_type": "code",
      "source": [
        "import tensorflow as tf\n",
        "\n",
        "x = tf.placeholder(\"float\", [None, 3])\n",
        "\n",
        "y = 2*x\n",
        "\n",
        "with tf.Session() as sess:\n",
        "    x_data = [[1, 2, 3],\n",
        "              [4, 5, 6]]\n",
        "    result = sess.run(y, feed_dict={x: x_data})\n",
        "    print(result)"
      ],
      "execution_count": 0,
      "outputs": [
        {
          "output_type": "stream",
          "text": [
            "[[ 2.  4.  6.]\n",
            " [ 8. 10. 12.]]\n"
          ],
          "name": "stdout"
        }
      ]
    },
    {
      "metadata": {
        "id": "mLw2kiAiR3Kb",
        "colab_type": "code",
        "outputId": "126af623-5f79-49f3-a9dc-6b3a4a510ad8",
        "colab": {
          "base_uri": "https://localhost:8080/",
          "height": 52
        }
      },
      "cell_type": "code",
      "source": [
        "import tensorflow as tf\n",
        "\n",
        "x = tf.placeholder(\"float\", [None, 3])\n",
        "\n",
        "y = x*x\n",
        "\n",
        "with tf.Session() as sess:\n",
        "    x_data = [[1, 2, 3],\n",
        "              [4, 5, 6]]\n",
        "    result = sess.run(y, feed_dict={x: x_data})\n",
        "    print(result)"
      ],
      "execution_count": 0,
      "outputs": [
        {
          "output_type": "stream",
          "text": [
            "[[ 1.  4.  9.]\n",
            " [16. 25. 36.]]\n"
          ],
          "name": "stdout"
        }
      ]
    },
    {
      "metadata": {
        "id": "7I8GQIFHPkc2",
        "colab_type": "code",
        "outputId": "eb036302-0f16-4cfa-aad3-7226f5f5bcbf",
        "colab": {
          "base_uri": "https://localhost:8080/",
          "height": 34
        }
      },
      "cell_type": "code",
      "source": [
        "import tensorflow as tf\n",
        "\n",
        "x = tf.placeholder(\"float\", [None, 3])\n",
        "\n",
        "y = x[0, :] * x[1, :]\n",
        "\n",
        "with tf.Session() as sess:\n",
        "    x_data = [[1, 2, 3],\n",
        "              [4, 5, 6]]\n",
        "    result = sess.run(y, feed_dict={x: x_data})\n",
        "    print(result)"
      ],
      "execution_count": 0,
      "outputs": [
        {
          "output_type": "stream",
          "text": [
            "[ 4. 10. 18.]\n"
          ],
          "name": "stdout"
        }
      ]
    },
    {
      "metadata": {
        "id": "cKj2I4UjVPnP",
        "colab_type": "code",
        "outputId": "ff078a31-3d1b-49cd-ebf9-72efa1ac581f",
        "colab": {
          "base_uri": "https://localhost:8080/",
          "height": 34
        }
      },
      "cell_type": "code",
      "source": [
        "import tensorflow as tf\n",
        "\n",
        "x = tf.placeholder(\"float\", [None, 3])\n",
        "\n",
        "y = x[:, 0] + x[:, 1] + x[:, 2]\n",
        "\n",
        "with tf.Session() as sess:\n",
        "    x_data = [[1, 2, 3],\n",
        "              [4, 5, 6]]\n",
        "    result = sess.run(y, feed_dict={x: x_data})\n",
        "    print(result)"
      ],
      "execution_count": 0,
      "outputs": [
        {
          "output_type": "stream",
          "text": [
            "[ 6. 15.]\n"
          ],
          "name": "stdout"
        }
      ]
    },
    {
      "metadata": {
        "id": "_0VVKYneSKVg",
        "colab_type": "code",
        "outputId": "ac07aa97-ad88-4e27-df60-40c312c8d76c",
        "colab": {
          "base_uri": "https://localhost:8080/",
          "height": 52
        }
      },
      "cell_type": "code",
      "source": [
        "import tensorflow as tf\n",
        "\n",
        "x = tf.placeholder(\"float\", [None, 3])\n",
        "\n",
        "y = tf.matmul(x, tf.transpose(x))\n",
        "\n",
        "with tf.Session() as sess:\n",
        "    x_data = [[1, 2, 3],\n",
        "              [4, 5, 6]]\n",
        "    result = sess.run(y, feed_dict={x: x_data})\n",
        "    print(result)"
      ],
      "execution_count": 0,
      "outputs": [
        {
          "output_type": "stream",
          "text": [
            "[[14. 32.]\n",
            " [32. 77.]]\n"
          ],
          "name": "stdout"
        }
      ]
    },
    {
      "metadata": {
        "id": "-CehSFX2eE2M",
        "colab_type": "code",
        "outputId": "09ca25cc-a0fc-4ffe-dc9e-69c9ee6d782d",
        "colab": {
          "base_uri": "https://localhost:8080/",
          "height": 86
        }
      },
      "cell_type": "code",
      "source": [
        "import tensorflow as tf\n",
        "\n",
        "x1 = tf.placeholder(\"float\", [None, 3])\n",
        "x2 = tf.placeholder(\"float\", [3, 1])\n",
        "\n",
        "y = tf.matmul(x1, x2)\n",
        "\n",
        "with tf.Session() as sess:\n",
        "    x1_data = [[1, 1, 1],\n",
        "               [1, 1, 1],\n",
        "               [1, 1, 1],\n",
        "               [1, 1, 1]]\n",
        "    \n",
        "    x2_data = [[1],\n",
        "               [2],\n",
        "               [3]]\n",
        "    \n",
        "    result = sess.run(y, feed_dict={x1: x1_data, x2: x2_data})\n",
        "    print(result)"
      ],
      "execution_count": 0,
      "outputs": [
        {
          "output_type": "stream",
          "text": [
            "[[6.]\n",
            " [6.]\n",
            " [6.]\n",
            " [6.]]\n"
          ],
          "name": "stdout"
        }
      ]
    },
    {
      "metadata": {
        "id": "WbecM_-tpyAD",
        "colab_type": "code",
        "outputId": "25fb7717-1a52-42e7-8a97-f619ebd43d6d",
        "colab": {
          "base_uri": "https://localhost:8080/",
          "height": 34
        }
      },
      "cell_type": "code",
      "source": [
        "import tensorflow as tf\n",
        "\n",
        "x1 = tf.placeholder(\"float\", [1, 3])\n",
        "x2 = tf.placeholder(\"float\", [3, None])\n",
        "\n",
        "y = tf.matmul(x1, x2)\n",
        "\n",
        "with tf.Session() as sess:\n",
        "    x1_data = [[1, 2, 3]]\n",
        "    \n",
        "    x2_data = [[1, 1, 1, 1, 1, 1, 1],\n",
        "               [1, 1, 1, 1, 1, 1, 1],\n",
        "               [1, 1, 1, 1, 1, 1, 1]]\n",
        "    \n",
        "    result = sess.run(y, feed_dict={x1: x1_data, x2: x2_data})\n",
        "    print(result)"
      ],
      "execution_count": 0,
      "outputs": [
        {
          "output_type": "stream",
          "text": [
            "[[6. 6. 6. 6. 6. 6. 6.]]\n"
          ],
          "name": "stdout"
        }
      ]
    },
    {
      "metadata": {
        "id": "7FM4GnIbYdaG",
        "colab_type": "text"
      },
      "cell_type": "markdown",
      "source": [
        "# Variable:\n",
        "Variables are necessary elements because they hold values such as the weights of the neural network. Unlike Placeholders, initializers of the variables must be run before all other session operations in the model. When we define a variable, we basically pass a tensor and its value to the graph."
      ]
    },
    {
      "metadata": {
        "id": "MATTYl0KfdJW",
        "colab_type": "code",
        "outputId": "fc4b121d-664f-41fe-82f0-6ef3cba599a6",
        "colab": {
          "base_uri": "https://localhost:8080/",
          "height": 282
        }
      },
      "cell_type": "code",
      "source": [
        "import tensorflow as tf\n",
        "import numpy as np\n",
        "import tensorflow as tf\n",
        "import matplotlib.pyplot as plt\n",
        "%matplotlib inline\n",
        "\n",
        "plotSize = 25\n",
        "x_data = np.linspace(0, 10, plotSize) + np.random.uniform(-1.5, 1.5, plotSize)\n",
        "y_label = np.linspace(0, 20, plotSize) + np.random.uniform(-1.5, 1.5, plotSize)\n",
        "\n",
        "m = tf.Variable(2.0)\n",
        "b = tf.Variable(2.0)\n",
        "\n",
        "error = 0\n",
        "for x,y in zip(x_data,y_label):    \n",
        "    y_hat = m*x + b  #Our predicted value  \n",
        "    \n",
        "    # The cost we want to minimize \n",
        "    # (we'll need to use an optimization function for the minimization!)\n",
        "    error += (y-y_hat)**2 \n",
        "\n",
        "optimizer = tf.train.GradientDescentOptimizer(learning_rate=0.001)\n",
        "train = optimizer.minimize(error)    \n",
        "\n",
        "init = tf.global_variables_initializer()\n",
        "\n",
        "with tf.Session() as sess:    \n",
        "    sess.run(init)   \n",
        "    epochs = 100   \n",
        "    for i in range(epochs):       \n",
        "        sess.run(train)        \n",
        "\n",
        "    # Fetch Back Results\n",
        "    final_slope , final_intercept = sess.run([m,b])\n",
        "    \n",
        "x_test = np.linspace(-1, 11, plotSize)\n",
        "y_pred_plot = final_slope*x_test + final_intercept\n",
        "\n",
        "plt.plot(x_test,y_pred_plot,'r')\n",
        "plt.plot(x_data,y_label,'*')"
      ],
      "execution_count": 0,
      "outputs": [
        {
          "output_type": "execute_result",
          "data": {
            "text/plain": [
              "[<matplotlib.lines.Line2D at 0x7ff99636a2b0>]"
            ]
          },
          "metadata": {
            "tags": []
          },
          "execution_count": 81
        },
        {
          "output_type": "display_data",
          "data": {
            "image/png": "[encoded data removed]",
            "text/plain": [
              "<matplotlib.figure.Figure at 0x7ff997e77cc0>"
            ]
          },
          "metadata": {
            "tags": []
          }
        }
      ]
    },
    {
      "metadata": {
        "id": "9NO0UP4wfhKc",
        "colab_type": "code",
        "outputId": "4ee7450e-dff3-4023-ebe2-8e0b3c4f164b",
        "colab": {
          "base_uri": "https://localhost:8080/",
          "height": 314
        }
      },
      "cell_type": "code",
      "source": [
        "import tensorflow as tf\n",
        "import numpy as np\n",
        "import pandas as pd\n",
        "import matplotlib.pyplot as plt\n",
        "%matplotlib inline\n",
        "\n",
        "# 1 Million Points\n",
        "x_data = np.linspace(0.0,10.0,1000000)\n",
        "noise = np.random.randn(len(x_data))\n",
        "\n",
        "# y = mx + b + noise_levels\n",
        "b_true = 5.0\n",
        "y_true = 0.5*x_data + b_true + noise\n",
        "\n",
        "my_data = pd.concat([pd.DataFrame(data=x_data,columns=['X Data']),\n",
        "                     pd.DataFrame(data=y_true,columns=['Y'])],\n",
        "                    axis=1)\n",
        "\n",
        "# Random 10 points to grab\n",
        "batch_size = 8\n",
        "m = tf.Variable(1.0)\n",
        "b = tf.Variable(1.0)\n",
        "\n",
        "xph = tf.placeholder(tf.float32,[batch_size])\n",
        "yph = tf.placeholder(tf.float32,[batch_size])\n",
        "\n",
        "y_model = m*xph + b\n",
        "\n",
        "error = tf.reduce_sum(tf.square(yph - y_model))\n",
        "\n",
        "optimizer = tf.train.GradientDescentOptimizer(learning_rate=0.001)\n",
        "train = optimizer.minimize(error)\n",
        "\n",
        "init = tf.global_variables_initializer()\n",
        "\n",
        "with tf.Session() as sess:    \n",
        "    sess.run(init)    \n",
        "    batches = 1000   \n",
        "    for i in range(batches): \n",
        "        rand_ind = np.random.randint(len(x_data), size=batch_size)\n",
        "        feed = {xph:x_data[rand_ind], yph:y_true[rand_ind]}\n",
        "        sess.run(train, feed_dict=feed)        \n",
        "    model_m, model_b = sess.run([m, b])\n",
        "    print(model_m, model_b)\n",
        "    \n",
        "y_hat = model_m*x_data + model_b\n",
        "\n",
        "my_data.sample(n=250).plot(kind='scatter', x='X Data', y='Y')\n",
        "plt.plot(x_data, y_hat, 'r')\n"
      ],
      "execution_count": 0,
      "outputs": [
        {
          "output_type": "stream",
          "text": [
            "0.47341692 4.9510074\n"
          ],
          "name": "stdout"
        },
        {
          "output_type": "execute_result",
          "data": {
            "text/plain": [
              "[<matplotlib.lines.Line2D at 0x7ff99470a588>]"
            ]
          },
          "metadata": {
            "tags": []
          },
          "execution_count": 107
        },
        {
          "output_type": "display_data",
          "data": {
            "image/png": "[encoded data removed]",
            "text/plain": [
              "<matplotlib.figure.Figure at 0x7ff994714438>"
            ]
          },
          "metadata": {
            "tags": []
          }
        }
      ]
    },
    {
      "metadata": {
        "id": "HqFuWNGK3aaN",
        "colab_type": "text"
      },
      "cell_type": "markdown",
      "source": [
        "# Save and restore variables\n",
        "\n",
        "[tensorflow.org/guide/saved_model](https://www.tensorflow.org/guide/saved_model)"
      ]
    },
    {
      "metadata": {
        "id": "F_xtSIDz3lsJ",
        "colab_type": "text"
      },
      "cell_type": "markdown",
      "source": [
        "Tensorflow Variables are the best way to represent shared, persistent state manipulated by our program. So it is interesting to be able to save the variables manipulated (trained) by our program. The **tf.train.Saver** constructor adds save and restore ops to the graph for all, or a specified list, of the variables in the graph.\n"
      ]
    },
    {
      "metadata": {
        "id": "DUyNwzZK5jIv",
        "colab_type": "text"
      },
      "cell_type": "markdown",
      "source": [
        "**Save variables:**"
      ]
    },
    {
      "metadata": {
        "id": "4qxpgKFj5WaM",
        "colab_type": "code",
        "colab": {}
      },
      "cell_type": "code",
      "source": [
        "# Create some variables.\n",
        "v1 = tf.get_variable(\"v1\", shape=[3], initializer = tf.zeros_initializer)\n",
        "v2 = tf.get_variable(\"v2\", shape=[5], initializer = tf.zeros_initializer)\n",
        "\n",
        "inc_v1 = v1.assign(v1+1)\n",
        "dec_v2 = v2.assign(v2-1)\n",
        "\n",
        "# Add an op to initialize the variables.\n",
        "init_op = tf.global_variables_initializer()\n",
        "\n",
        "# Add ops to save and restore all the variables.\n",
        "saver = tf.train.Saver()\n",
        "\n",
        "# Later, launch the model, initialize the variables, do some work, and save the\n",
        "# variables to disk.\n",
        "with tf.Session() as sess:\n",
        "  sess.run(init_op)\n",
        "  # Do some work with the model.\n",
        "  inc_v1.op.run()\n",
        "  dec_v2.op.run()\n",
        "  # Save the variables to disk.\n",
        "  save_path = saver.save(sess, \"/tmp/model.ckpt\")\n",
        "  print(\"Model saved in path: %s\" % save_path)\n"
      ],
      "execution_count": 0,
      "outputs": []
    },
    {
      "metadata": {
        "id": "aEwxB9oU5mUa",
        "colab_type": "text"
      },
      "cell_type": "markdown",
      "source": [
        "**Restore variables:**"
      ]
    },
    {
      "metadata": {
        "id": "0NInWkfw5ohE",
        "colab_type": "code",
        "colab": {}
      },
      "cell_type": "code",
      "source": [
        "tf.reset_default_graph()\n",
        "\n",
        "# Create some variables.\n",
        "v1 = tf.get_variable(\"v1\", shape=[3])\n",
        "v2 = tf.get_variable(\"v2\", shape=[5])\n",
        "\n",
        "# Add ops to save and restore all the variables.\n",
        "saver = tf.train.Saver()\n",
        "\n",
        "# Later, launch the model, use the saver to restore variables from disk, and\n",
        "# do some work with the model.\n",
        "with tf.Session() as sess:\n",
        "  # Restore variables from disk.\n",
        "  saver.restore(sess, \"/tmp/model.ckpt\")\n",
        "  print(\"Model restored.\")\n",
        "  # Check the values of the variables\n",
        "  print(\"v1 : %s\" % v1.eval())\n",
        "  print(\"v2 : %s\" % v2.eval())\n"
      ],
      "execution_count": 0,
      "outputs": []
    },
    {
      "metadata": {
        "id": "oSKUeT0QTtvO",
        "colab_type": "text"
      },
      "cell_type": "markdown",
      "source": [
        "# Integrate a system of ordinary differential equations:\n",
        "[tf.contrib.integrate.odeint ](https://www.tensorflow.org/api_docs/python/tf/contrib/integrate/odeint)"
      ]
    },
    {
      "metadata": {
        "id": "pNFHLu4wi0O5",
        "colab_type": "text"
      },
      "cell_type": "markdown",
      "source": [
        "---\n",
        "$$\\frac{dy}{dt}=k \\therefore y(t) = kt$$ \n",
        "$$k =2 \\therefore y(t) = 2t$$ "
      ]
    },
    {
      "metadata": {
        "id": "BPRhIOe4TPtt",
        "colab_type": "code",
        "outputId": "61982169-270d-4d1a-8748-893472b78dbc",
        "colab": {
          "base_uri": "https://localhost:8080/",
          "height": 282
        }
      },
      "cell_type": "code",
      "source": [
        "import tensorflow as tf\n",
        "import numpy as np\n",
        "import pandas as pd\n",
        "import matplotlib.pyplot as plt\n",
        "%matplotlib inline\n",
        "\n",
        "t = np.linspace(-1.0, 1.0, 100, dtype = np.float32)\n",
        "t_tensor = tf.constant(value = t, dtype = tf.float32)\n",
        " \n",
        "k = 2.0\n",
        "func = lambda y, t_tensor: k\n",
        "\n",
        "y_solved = tf.contrib.integrate.odeint(func, -1.0, t_tensor)\n",
        "\n",
        "with tf.Session() as sess:\n",
        "  y_solved = sess.run(y_solved)\n",
        "\n",
        "plt.plot(t, y_solved, 'g')"
      ],
      "execution_count": 0,
      "outputs": [
        {
          "output_type": "execute_result",
          "data": {
            "text/plain": [
              "[<matplotlib.lines.Line2D at 0x7f9e2fba5128>]"
            ]
          },
          "metadata": {
            "tags": []
          },
          "execution_count": 51
        },
        {
          "output_type": "display_data",
          "data": {
            "image/png": "[encoded data removed]",
            "text/plain": [
              "<matplotlib.figure.Figure at 0x7f9e30245198>"
            ]
          },
          "metadata": {
            "tags": []
          }
        }
      ]
    },
    {
      "metadata": {
        "id": "IvCnHuDfhyVO",
        "colab_type": "text"
      },
      "cell_type": "markdown",
      "source": [
        "---\n",
        "$$\\frac{dy}{dt}=kt \\therefore y(t) = \\frac{kt^{2}}{2}$$ \n",
        "$$k =2 \\therefore y(t) = t^{2}$$ "
      ]
    },
    {
      "metadata": {
        "id": "dmPl8w0DH86o",
        "colab_type": "code",
        "outputId": "e01750f7-ad19-4c80-e0e9-dbcb8532e8ab",
        "colab": {
          "base_uri": "https://localhost:8080/",
          "height": 282
        }
      },
      "cell_type": "code",
      "source": [
        "import tensorflow as tf\n",
        "import numpy as np\n",
        "import pandas as pd\n",
        "import matplotlib.pyplot as plt\n",
        "%matplotlib inline\n",
        "\n",
        "t = np.linspace(-1.0, 1.0, 100, dtype = np.float32)\n",
        "t_tensor = tf.constant(value = t, dtype = tf.float32)\n",
        " \n",
        "k = 2.0\n",
        "func = lambda y, t_tensor: k*t_tensor\n",
        "\n",
        "y_solved = tf.contrib.integrate.odeint(func, 1.0, t_tensor)\n",
        "\n",
        "with tf.Session() as sess:\n",
        "  y_solved = sess.run(y_solved)\n",
        "\n",
        "plt.plot(t, y_solved, 'g')"
      ],
      "execution_count": 0,
      "outputs": [
        {
          "output_type": "execute_result",
          "data": {
            "text/plain": [
              "[<matplotlib.lines.Line2D at 0x7f9e30711da0>]"
            ]
          },
          "metadata": {
            "tags": []
          },
          "execution_count": 46
        },
        {
          "output_type": "display_data",
          "data": {
            "image/png": "[encoded data removed]",
            "text/plain": [
              "<matplotlib.figure.Figure at 0x7f9e31c74c88>"
            ]
          },
          "metadata": {
            "tags": []
          }
        }
      ]
    },
    {
      "metadata": {
        "id": "BckHHQQlkUQf",
        "colab_type": "text"
      },
      "cell_type": "markdown",
      "source": [
        "---\n",
        "$$\\frac{dy}{dt}=ky \\therefore y(t) = e^{kt}$$ \n",
        "$$k =-0.25 \\therefore y(t) = e^{-0.25t}$$  "
      ]
    },
    {
      "metadata": {
        "id": "Xn2L-yMkkmX3",
        "colab_type": "code",
        "outputId": "28cb51af-f67d-4ba1-95de-63a38d397f8d",
        "colab": {
          "base_uri": "https://localhost:8080/",
          "height": 337
        }
      },
      "cell_type": "code",
      "source": [
        "import tensorflow as tf\n",
        "import numpy as np\n",
        "import pandas as pd\n",
        "import matplotlib.pyplot as plt\n",
        "%matplotlib inline\n",
        "\n",
        "t = np.linspace(0.0, 4*3.141593, 100)\n",
        "t_tensor = tf.constant(value = t, dtype = tf.float32)\n",
        "\n",
        "# Test a complex, linear ODE:\n",
        "#   dy / dt = k * y,  y(0) = 1.0.\n",
        "# Its analytical solution is y = exp(k * t).\n",
        "k = -0.25 \n",
        "func = lambda y, t: k * y\n",
        "\n",
        "y_solved = tf.contrib.integrate.odeint(func, 1.0 + 0.0j, t)\n",
        "\n",
        "with tf.Session() as sess:\n",
        "  y_solved = sess.run(y_solved)\n",
        "\n",
        "plt.plot(t, y_solved, 'g')"
      ],
      "execution_count": 0,
      "outputs": [
        {
          "output_type": "stream",
          "text": [
            "/usr/local/lib/python3.6/dist-packages/numpy/core/numeric.py:492: ComplexWarning: Casting complex values to real discards the imaginary part\n",
            "  return array(a, dtype, copy=False, order=order)\n"
          ],
          "name": "stderr"
        },
        {
          "output_type": "execute_result",
          "data": {
            "text/plain": [
              "[<matplotlib.lines.Line2D at 0x7f9e4099bb38>]"
            ]
          },
          "metadata": {
            "tags": []
          },
          "execution_count": 3
        },
        {
          "output_type": "display_data",
          "data": {
            "image/png": "[encoded data removed]",
            "text/plain": [
              "<matplotlib.figure.Figure at 0x7f9e4dd153c8>"
            ]
          },
          "metadata": {
            "tags": []
          }
        }
      ]
    },
    {
      "metadata": {
        "id": "eCdqh72Ukv1q",
        "colab_type": "text"
      },
      "cell_type": "markdown",
      "source": [
        "---\n",
        "$$\\frac{dy}{dt}=ky \\therefore y(t) = e^{kt}$$ \n",
        "$$k =j2 \\therefore y(t) = e^{j2}$$  "
      ]
    },
    {
      "metadata": {
        "id": "xjHo6swvkxHU",
        "colab_type": "code",
        "outputId": "bb5b6491-110e-4758-c97c-25bb92f8ed03",
        "colab": {
          "base_uri": "https://localhost:8080/",
          "height": 337
        }
      },
      "cell_type": "code",
      "source": [
        "import tensorflow as tf\n",
        "import numpy as np\n",
        "import pandas as pd\n",
        "import matplotlib.pyplot as plt\n",
        "%matplotlib inline\n",
        "\n",
        "t = np.linspace(0.0, 4*3.141593, 100)\n",
        "t_tensor = tf.constant(value = t, dtype = tf.float32)\n",
        "\n",
        "# Test a complex, linear ODE:\n",
        "#   dy / dt = k * y,  y(0) = 1.0.\n",
        "# Its analytical solution is y = exp(k * t).\n",
        "k = 2j\n",
        "func = lambda y, t: k * y\n",
        "\n",
        "y_solved = tf.contrib.integrate.odeint(func, 1.0 + 0.0j, t)\n",
        "\n",
        "with tf.Session() as sess:\n",
        "  y_solved = sess.run(y_solved)\n",
        "\n",
        "plt.plot(t, y_solved, 'g')"
      ],
      "execution_count": 0,
      "outputs": [
        {
          "output_type": "stream",
          "text": [
            "/usr/local/lib/python3.6/dist-packages/numpy/core/numeric.py:492: ComplexWarning: Casting complex values to real discards the imaginary part\n",
            "  return array(a, dtype, copy=False, order=order)\n"
          ],
          "name": "stderr"
        },
        {
          "output_type": "execute_result",
          "data": {
            "text/plain": [
              "[<matplotlib.lines.Line2D at 0x7f9e3ff9b3c8>]"
            ]
          },
          "metadata": {
            "tags": []
          },
          "execution_count": 5
        },
        {
          "output_type": "display_data",
          "data": {
            "image/png": "[encoded data removed]",
            "text/plain": [
              "<matplotlib.figure.Figure at 0x7f9e404c35f8>"
            ]
          },
          "metadata": {
            "tags": []
          }
        }
      ]
    },
    {
      "metadata": {
        "id": "Z2vQbeI1f3lS",
        "colab_type": "text"
      },
      "cell_type": "markdown",
      "source": [
        "---\n",
        "$$\\frac{dy}{dt}=ky \\therefore y(t) = e^{kt}$$ \n",
        "$$k =-0.25+j2 \\therefore y(t) = y(t) = e^{(-0.25+j2)t} = e^{-0.25t}e^{j2t}$$ "
      ]
    },
    {
      "metadata": {
        "id": "YVww8EwLE7pc",
        "colab_type": "code",
        "outputId": "e6739c33-9265-4baf-8ddc-455e0f1d7b87",
        "colab": {
          "base_uri": "https://localhost:8080/",
          "height": 337
        }
      },
      "cell_type": "code",
      "source": [
        "import tensorflow as tf\n",
        "import numpy as np\n",
        "import pandas as pd\n",
        "import matplotlib.pyplot as plt\n",
        "%matplotlib inline\n",
        "\n",
        "t = np.linspace(0.0, 4*3.141593, 100)\n",
        "t_tensor = tf.constant(value = t, dtype = tf.float32)\n",
        "\n",
        "# Test a complex, linear ODE:\n",
        "#   dy / dt = k * y,  y(0) = 1.0.\n",
        "# Its analytical solution is y = exp(k * t).\n",
        "k = 2j-0.25 \n",
        "func = lambda y, t: k * y\n",
        "\n",
        "y_solved = tf.contrib.integrate.odeint(func, 1.0 + 0.0j, t)\n",
        "\n",
        "with tf.Session() as sess:\n",
        "  y_solved = sess.run(y_solved)\n",
        "\n",
        "plt.plot(t, y_solved, 'g')"
      ],
      "execution_count": 0,
      "outputs": [
        {
          "output_type": "stream",
          "text": [
            "/usr/local/lib/python3.6/dist-packages/numpy/core/numeric.py:492: ComplexWarning: Casting complex values to real discards the imaginary part\n",
            "  return array(a, dtype, copy=False, order=order)\n"
          ],
          "name": "stderr"
        },
        {
          "output_type": "execute_result",
          "data": {
            "text/plain": [
              "[<matplotlib.lines.Line2D at 0x7f9e3fb01c50>]"
            ]
          },
          "metadata": {
            "tags": []
          },
          "execution_count": 6
        },
        {
          "output_type": "display_data",
          "data": {
            "image/png": "[encoded data removed]",
            "text/plain": [
              "<matplotlib.figure.Figure at 0x7f9e3ffbcb00>"
            ]
          },
          "metadata": {
            "tags": []
          }
        }
      ]
    },
    {
      "metadata": {
        "id": "OOSx76OQlgJQ",
        "colab_type": "text"
      },
      "cell_type": "markdown",
      "source": [
        "---\n",
        "In 1963, Edward Lorenz developed a simplified mathematical model for atmospheric convection. The model is a system of three ordinary differential equations now known as the Lorenz equations: \n",
        "\n",
        "$$\\frac{dx}{dt}=\\sigma(y-x)$$ \n",
        "$$\\frac{dy}{dt}=x(\\rho-z)-y $$\n",
        "$$\\frac{dz}{dt}=xy-\\beta z$$ \n",
        "\n",
        "In particular, the Lorenz attractor is a set of chaotic solutions of the Lorenz system which, when plotted, resemble a butterfly or figure eight. \n"
      ]
    },
    {
      "metadata": {
        "id": "XIQmHwHieqpo",
        "colab_type": "code",
        "outputId": "fc0b8146-3d7f-452f-f064-8781c33e1b5f",
        "colab": {
          "base_uri": "https://localhost:8080/",
          "height": 282
        }
      },
      "cell_type": "code",
      "source": [
        "import tensorflow as tf\n",
        "import numpy as np\n",
        "import pandas as pd\n",
        "import matplotlib.pyplot as plt\n",
        "%matplotlib inline\n",
        "\n",
        "rho = 28.0\n",
        "sigma = 10.0\n",
        "beta = 8.0/3.0\n",
        "\n",
        "def lorenz_equation(state, t):\n",
        "  x, y, z = tf.unstack(state)\n",
        "  dx = sigma * (y - x)\n",
        "  dy = x * (rho - z) - y\n",
        "  dz = x * y - beta * z\n",
        "  return tf.stack([dx, dy, dz])\n",
        "\n",
        "init_state = tf.constant([0, 2, 20], dtype=tf.float64)\n",
        "t = np.linspace(0, 50, num=5000)\n",
        "\n",
        "tensor_state, tensor_info = tf.contrib.integrate.odeint(\n",
        "    lorenz_equation, init_state, t, full_output=True)\n",
        "\n",
        "sess = tf.Session()\n",
        "state, info = sess.run([tensor_state, tensor_info])\n",
        "x, y, z = state.T\n",
        "plt.plot(x, z, 'g')\n"
      ],
      "execution_count": 0,
      "outputs": [
        {
          "output_type": "execute_result",
          "data": {
            "text/plain": [
              "[<matplotlib.lines.Line2D at 0x7f9e30c3c940>]"
            ]
          },
          "metadata": {
            "tags": []
          },
          "execution_count": 45
        },
        {
          "output_type": "display_data",
          "data": {
            "image/png": "[encoded data removed]",
            "text/plain": [
              "<matplotlib.figure.Figure at 0x7f9e30ea2b38>"
            ]
          },
          "metadata": {
            "tags": []
          }
        }
      ]
    },
    {
      "metadata": {
        "id": "y7aAB3HeLr0J",
        "colab_type": "text"
      },
      "cell_type": "markdown",
      "source": [
        "---"
      ]
    }
  ]
}